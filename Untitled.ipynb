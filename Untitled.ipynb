{
 "cells": [
  {
   "cell_type": "code",
   "execution_count": 3,
   "id": "885deafe",
   "metadata": {},
   "outputs": [],
   "source": [
    "import pandas as pd\n",
    "import numpy as np"
   ]
  },
  {
   "cell_type": "code",
   "execution_count": 4,
   "id": "c1089082",
   "metadata": {},
   "outputs": [
    {
     "data": {
      "text/html": [
       "<div>\n",
       "<style scoped>\n",
       "    .dataframe tbody tr th:only-of-type {\n",
       "        vertical-align: middle;\n",
       "    }\n",
       "\n",
       "    .dataframe tbody tr th {\n",
       "        vertical-align: top;\n",
       "    }\n",
       "\n",
       "    .dataframe thead th {\n",
       "        text-align: right;\n",
       "    }\n",
       "</style>\n",
       "<table border=\"1\" class=\"dataframe\">\n",
       "  <thead>\n",
       "    <tr style=\"text-align: right;\">\n",
       "      <th></th>\n",
       "      <th>Serial No.</th>\n",
       "      <th>GRE Score</th>\n",
       "      <th>TOEFL Score</th>\n",
       "      <th>University Rating</th>\n",
       "      <th>SOP</th>\n",
       "      <th>LOR</th>\n",
       "      <th>CGPA</th>\n",
       "      <th>Research</th>\n",
       "      <th>Chance of Admit</th>\n",
       "    </tr>\n",
       "  </thead>\n",
       "  <tbody>\n",
       "    <tr>\n",
       "      <th>0</th>\n",
       "      <td>1</td>\n",
       "      <td>337</td>\n",
       "      <td>118</td>\n",
       "      <td>4</td>\n",
       "      <td>4.5</td>\n",
       "      <td>4.5</td>\n",
       "      <td>9.65</td>\n",
       "      <td>1</td>\n",
       "      <td>0.92</td>\n",
       "    </tr>\n",
       "    <tr>\n",
       "      <th>1</th>\n",
       "      <td>2</td>\n",
       "      <td>324</td>\n",
       "      <td>107</td>\n",
       "      <td>4</td>\n",
       "      <td>4.0</td>\n",
       "      <td>4.5</td>\n",
       "      <td>8.87</td>\n",
       "      <td>1</td>\n",
       "      <td>0.76</td>\n",
       "    </tr>\n",
       "    <tr>\n",
       "      <th>2</th>\n",
       "      <td>3</td>\n",
       "      <td>316</td>\n",
       "      <td>104</td>\n",
       "      <td>3</td>\n",
       "      <td>3.0</td>\n",
       "      <td>3.5</td>\n",
       "      <td>8.00</td>\n",
       "      <td>1</td>\n",
       "      <td>0.72</td>\n",
       "    </tr>\n",
       "    <tr>\n",
       "      <th>3</th>\n",
       "      <td>4</td>\n",
       "      <td>322</td>\n",
       "      <td>110</td>\n",
       "      <td>3</td>\n",
       "      <td>3.5</td>\n",
       "      <td>2.5</td>\n",
       "      <td>8.67</td>\n",
       "      <td>1</td>\n",
       "      <td>0.80</td>\n",
       "    </tr>\n",
       "    <tr>\n",
       "      <th>4</th>\n",
       "      <td>5</td>\n",
       "      <td>314</td>\n",
       "      <td>103</td>\n",
       "      <td>2</td>\n",
       "      <td>2.0</td>\n",
       "      <td>3.0</td>\n",
       "      <td>8.21</td>\n",
       "      <td>0</td>\n",
       "      <td>0.65</td>\n",
       "    </tr>\n",
       "    <tr>\n",
       "      <th>5</th>\n",
       "      <td>6</td>\n",
       "      <td>330</td>\n",
       "      <td>115</td>\n",
       "      <td>5</td>\n",
       "      <td>4.5</td>\n",
       "      <td>3.0</td>\n",
       "      <td>9.34</td>\n",
       "      <td>1</td>\n",
       "      <td>0.90</td>\n",
       "    </tr>\n",
       "    <tr>\n",
       "      <th>6</th>\n",
       "      <td>7</td>\n",
       "      <td>321</td>\n",
       "      <td>109</td>\n",
       "      <td>3</td>\n",
       "      <td>3.0</td>\n",
       "      <td>4.0</td>\n",
       "      <td>8.20</td>\n",
       "      <td>1</td>\n",
       "      <td>0.75</td>\n",
       "    </tr>\n",
       "    <tr>\n",
       "      <th>7</th>\n",
       "      <td>8</td>\n",
       "      <td>308</td>\n",
       "      <td>101</td>\n",
       "      <td>2</td>\n",
       "      <td>3.0</td>\n",
       "      <td>4.0</td>\n",
       "      <td>7.90</td>\n",
       "      <td>0</td>\n",
       "      <td>0.68</td>\n",
       "    </tr>\n",
       "    <tr>\n",
       "      <th>8</th>\n",
       "      <td>9</td>\n",
       "      <td>302</td>\n",
       "      <td>102</td>\n",
       "      <td>1</td>\n",
       "      <td>2.0</td>\n",
       "      <td>1.5</td>\n",
       "      <td>8.00</td>\n",
       "      <td>0</td>\n",
       "      <td>0.50</td>\n",
       "    </tr>\n",
       "    <tr>\n",
       "      <th>9</th>\n",
       "      <td>10</td>\n",
       "      <td>323</td>\n",
       "      <td>108</td>\n",
       "      <td>3</td>\n",
       "      <td>3.5</td>\n",
       "      <td>3.0</td>\n",
       "      <td>8.60</td>\n",
       "      <td>0</td>\n",
       "      <td>0.45</td>\n",
       "    </tr>\n",
       "  </tbody>\n",
       "</table>\n",
       "</div>"
      ],
      "text/plain": [
       "   Serial No.  GRE Score  TOEFL Score  University Rating  SOP  LOR   CGPA  \\\n",
       "0           1        337          118                  4  4.5   4.5  9.65   \n",
       "1           2        324          107                  4  4.0   4.5  8.87   \n",
       "2           3        316          104                  3  3.0   3.5  8.00   \n",
       "3           4        322          110                  3  3.5   2.5  8.67   \n",
       "4           5        314          103                  2  2.0   3.0  8.21   \n",
       "5           6        330          115                  5  4.5   3.0  9.34   \n",
       "6           7        321          109                  3  3.0   4.0  8.20   \n",
       "7           8        308          101                  2  3.0   4.0  7.90   \n",
       "8           9        302          102                  1  2.0   1.5  8.00   \n",
       "9          10        323          108                  3  3.5   3.0  8.60   \n",
       "\n",
       "   Research  Chance of Admit   \n",
       "0         1              0.92  \n",
       "1         1              0.76  \n",
       "2         1              0.72  \n",
       "3         1              0.80  \n",
       "4         0              0.65  \n",
       "5         1              0.90  \n",
       "6         1              0.75  \n",
       "7         0              0.68  \n",
       "8         0              0.50  \n",
       "9         0              0.45  "
      ]
     },
     "execution_count": 4,
     "metadata": {},
     "output_type": "execute_result"
    }
   ],
   "source": [
    "data = pd.read_csv(\"Admission_Predict.csv\")\n",
    "data.head(10)"
   ]
  },
  {
   "cell_type": "code",
   "execution_count": 5,
   "id": "4d4d9e53",
   "metadata": {},
   "outputs": [
    {
     "data": {
      "text/html": [
       "<div>\n",
       "<style scoped>\n",
       "    .dataframe tbody tr th:only-of-type {\n",
       "        vertical-align: middle;\n",
       "    }\n",
       "\n",
       "    .dataframe tbody tr th {\n",
       "        vertical-align: top;\n",
       "    }\n",
       "\n",
       "    .dataframe thead th {\n",
       "        text-align: right;\n",
       "    }\n",
       "</style>\n",
       "<table border=\"1\" class=\"dataframe\">\n",
       "  <thead>\n",
       "    <tr style=\"text-align: right;\">\n",
       "      <th></th>\n",
       "      <th>Serial No.</th>\n",
       "      <th>GRE Score</th>\n",
       "      <th>TOEFL Score</th>\n",
       "      <th>University Rating</th>\n",
       "      <th>SOP</th>\n",
       "      <th>LOR</th>\n",
       "      <th>CGPA</th>\n",
       "      <th>Research</th>\n",
       "      <th>Chance of Admit</th>\n",
       "    </tr>\n",
       "  </thead>\n",
       "  <tbody>\n",
       "    <tr>\n",
       "      <th>count</th>\n",
       "      <td>400.000000</td>\n",
       "      <td>400.000000</td>\n",
       "      <td>400.000000</td>\n",
       "      <td>400.000000</td>\n",
       "      <td>400.000000</td>\n",
       "      <td>400.000000</td>\n",
       "      <td>400.000000</td>\n",
       "      <td>400.000000</td>\n",
       "      <td>400.000000</td>\n",
       "    </tr>\n",
       "    <tr>\n",
       "      <th>mean</th>\n",
       "      <td>200.500000</td>\n",
       "      <td>316.807500</td>\n",
       "      <td>107.410000</td>\n",
       "      <td>3.087500</td>\n",
       "      <td>3.400000</td>\n",
       "      <td>3.452500</td>\n",
       "      <td>8.598925</td>\n",
       "      <td>0.547500</td>\n",
       "      <td>0.724350</td>\n",
       "    </tr>\n",
       "    <tr>\n",
       "      <th>std</th>\n",
       "      <td>115.614301</td>\n",
       "      <td>11.473646</td>\n",
       "      <td>6.069514</td>\n",
       "      <td>1.143728</td>\n",
       "      <td>1.006869</td>\n",
       "      <td>0.898478</td>\n",
       "      <td>0.596317</td>\n",
       "      <td>0.498362</td>\n",
       "      <td>0.142609</td>\n",
       "    </tr>\n",
       "    <tr>\n",
       "      <th>min</th>\n",
       "      <td>1.000000</td>\n",
       "      <td>290.000000</td>\n",
       "      <td>92.000000</td>\n",
       "      <td>1.000000</td>\n",
       "      <td>1.000000</td>\n",
       "      <td>1.000000</td>\n",
       "      <td>6.800000</td>\n",
       "      <td>0.000000</td>\n",
       "      <td>0.340000</td>\n",
       "    </tr>\n",
       "    <tr>\n",
       "      <th>25%</th>\n",
       "      <td>100.750000</td>\n",
       "      <td>308.000000</td>\n",
       "      <td>103.000000</td>\n",
       "      <td>2.000000</td>\n",
       "      <td>2.500000</td>\n",
       "      <td>3.000000</td>\n",
       "      <td>8.170000</td>\n",
       "      <td>0.000000</td>\n",
       "      <td>0.640000</td>\n",
       "    </tr>\n",
       "    <tr>\n",
       "      <th>50%</th>\n",
       "      <td>200.500000</td>\n",
       "      <td>317.000000</td>\n",
       "      <td>107.000000</td>\n",
       "      <td>3.000000</td>\n",
       "      <td>3.500000</td>\n",
       "      <td>3.500000</td>\n",
       "      <td>8.610000</td>\n",
       "      <td>1.000000</td>\n",
       "      <td>0.730000</td>\n",
       "    </tr>\n",
       "    <tr>\n",
       "      <th>75%</th>\n",
       "      <td>300.250000</td>\n",
       "      <td>325.000000</td>\n",
       "      <td>112.000000</td>\n",
       "      <td>4.000000</td>\n",
       "      <td>4.000000</td>\n",
       "      <td>4.000000</td>\n",
       "      <td>9.062500</td>\n",
       "      <td>1.000000</td>\n",
       "      <td>0.830000</td>\n",
       "    </tr>\n",
       "    <tr>\n",
       "      <th>max</th>\n",
       "      <td>400.000000</td>\n",
       "      <td>340.000000</td>\n",
       "      <td>120.000000</td>\n",
       "      <td>5.000000</td>\n",
       "      <td>5.000000</td>\n",
       "      <td>5.000000</td>\n",
       "      <td>9.920000</td>\n",
       "      <td>1.000000</td>\n",
       "      <td>0.970000</td>\n",
       "    </tr>\n",
       "  </tbody>\n",
       "</table>\n",
       "</div>"
      ],
      "text/plain": [
       "       Serial No.   GRE Score  TOEFL Score  University Rating         SOP  \\\n",
       "count  400.000000  400.000000   400.000000         400.000000  400.000000   \n",
       "mean   200.500000  316.807500   107.410000           3.087500    3.400000   \n",
       "std    115.614301   11.473646     6.069514           1.143728    1.006869   \n",
       "min      1.000000  290.000000    92.000000           1.000000    1.000000   \n",
       "25%    100.750000  308.000000   103.000000           2.000000    2.500000   \n",
       "50%    200.500000  317.000000   107.000000           3.000000    3.500000   \n",
       "75%    300.250000  325.000000   112.000000           4.000000    4.000000   \n",
       "max    400.000000  340.000000   120.000000           5.000000    5.000000   \n",
       "\n",
       "             LOR         CGPA    Research  Chance of Admit   \n",
       "count  400.000000  400.000000  400.000000        400.000000  \n",
       "mean     3.452500    8.598925    0.547500          0.724350  \n",
       "std      0.898478    0.596317    0.498362          0.142609  \n",
       "min      1.000000    6.800000    0.000000          0.340000  \n",
       "25%      3.000000    8.170000    0.000000          0.640000  \n",
       "50%      3.500000    8.610000    1.000000          0.730000  \n",
       "75%      4.000000    9.062500    1.000000          0.830000  \n",
       "max      5.000000    9.920000    1.000000          0.970000  "
      ]
     },
     "execution_count": 5,
     "metadata": {},
     "output_type": "execute_result"
    }
   ],
   "source": [
    "data.describe()"
   ]
  },
  {
   "cell_type": "code",
   "execution_count": 6,
   "id": "a42a5cb4",
   "metadata": {},
   "outputs": [
    {
     "data": {
      "text/plain": [
       "Serial No.           0\n",
       "GRE Score            0\n",
       "TOEFL Score          0\n",
       "University Rating    0\n",
       "SOP                  0\n",
       "LOR                  0\n",
       "CGPA                 0\n",
       "Research             0\n",
       "Chance of Admit      0\n",
       "dtype: int64"
      ]
     },
     "execution_count": 6,
     "metadata": {},
     "output_type": "execute_result"
    }
   ],
   "source": [
    "data.isna().sum()"
   ]
  },
  {
   "cell_type": "code",
   "execution_count": 7,
   "id": "24b64ce0",
   "metadata": {},
   "outputs": [],
   "source": [
    "data=data.drop(['Serial No.'],axis=1)"
   ]
  },
  {
   "cell_type": "code",
   "execution_count": 8,
   "id": "07b1d0e8",
   "metadata": {
    "scrolled": true
   },
   "outputs": [
    {
     "data": {
      "text/html": [
       "<div>\n",
       "<style scoped>\n",
       "    .dataframe tbody tr th:only-of-type {\n",
       "        vertical-align: middle;\n",
       "    }\n",
       "\n",
       "    .dataframe tbody tr th {\n",
       "        vertical-align: top;\n",
       "    }\n",
       "\n",
       "    .dataframe thead th {\n",
       "        text-align: right;\n",
       "    }\n",
       "</style>\n",
       "<table border=\"1\" class=\"dataframe\">\n",
       "  <thead>\n",
       "    <tr style=\"text-align: right;\">\n",
       "      <th></th>\n",
       "      <th>GRE Score</th>\n",
       "      <th>TOEFL Score</th>\n",
       "      <th>University Rating</th>\n",
       "      <th>SOP</th>\n",
       "      <th>LOR</th>\n",
       "      <th>CGPA</th>\n",
       "      <th>Research</th>\n",
       "      <th>Chance of Admit</th>\n",
       "    </tr>\n",
       "  </thead>\n",
       "  <tbody>\n",
       "    <tr>\n",
       "      <th>GRE Score</th>\n",
       "      <td>1.000000</td>\n",
       "      <td>0.835977</td>\n",
       "      <td>0.668976</td>\n",
       "      <td>0.612831</td>\n",
       "      <td>0.557555</td>\n",
       "      <td>0.833060</td>\n",
       "      <td>0.580391</td>\n",
       "      <td>0.802610</td>\n",
       "    </tr>\n",
       "    <tr>\n",
       "      <th>TOEFL Score</th>\n",
       "      <td>0.835977</td>\n",
       "      <td>1.000000</td>\n",
       "      <td>0.695590</td>\n",
       "      <td>0.657981</td>\n",
       "      <td>0.567721</td>\n",
       "      <td>0.828417</td>\n",
       "      <td>0.489858</td>\n",
       "      <td>0.791594</td>\n",
       "    </tr>\n",
       "    <tr>\n",
       "      <th>University Rating</th>\n",
       "      <td>0.668976</td>\n",
       "      <td>0.695590</td>\n",
       "      <td>1.000000</td>\n",
       "      <td>0.734523</td>\n",
       "      <td>0.660123</td>\n",
       "      <td>0.746479</td>\n",
       "      <td>0.447783</td>\n",
       "      <td>0.711250</td>\n",
       "    </tr>\n",
       "    <tr>\n",
       "      <th>SOP</th>\n",
       "      <td>0.612831</td>\n",
       "      <td>0.657981</td>\n",
       "      <td>0.734523</td>\n",
       "      <td>1.000000</td>\n",
       "      <td>0.729593</td>\n",
       "      <td>0.718144</td>\n",
       "      <td>0.444029</td>\n",
       "      <td>0.675732</td>\n",
       "    </tr>\n",
       "    <tr>\n",
       "      <th>LOR</th>\n",
       "      <td>0.557555</td>\n",
       "      <td>0.567721</td>\n",
       "      <td>0.660123</td>\n",
       "      <td>0.729593</td>\n",
       "      <td>1.000000</td>\n",
       "      <td>0.670211</td>\n",
       "      <td>0.396859</td>\n",
       "      <td>0.669889</td>\n",
       "    </tr>\n",
       "    <tr>\n",
       "      <th>CGPA</th>\n",
       "      <td>0.833060</td>\n",
       "      <td>0.828417</td>\n",
       "      <td>0.746479</td>\n",
       "      <td>0.718144</td>\n",
       "      <td>0.670211</td>\n",
       "      <td>1.000000</td>\n",
       "      <td>0.521654</td>\n",
       "      <td>0.873289</td>\n",
       "    </tr>\n",
       "    <tr>\n",
       "      <th>Research</th>\n",
       "      <td>0.580391</td>\n",
       "      <td>0.489858</td>\n",
       "      <td>0.447783</td>\n",
       "      <td>0.444029</td>\n",
       "      <td>0.396859</td>\n",
       "      <td>0.521654</td>\n",
       "      <td>1.000000</td>\n",
       "      <td>0.553202</td>\n",
       "    </tr>\n",
       "    <tr>\n",
       "      <th>Chance of Admit</th>\n",
       "      <td>0.802610</td>\n",
       "      <td>0.791594</td>\n",
       "      <td>0.711250</td>\n",
       "      <td>0.675732</td>\n",
       "      <td>0.669889</td>\n",
       "      <td>0.873289</td>\n",
       "      <td>0.553202</td>\n",
       "      <td>1.000000</td>\n",
       "    </tr>\n",
       "  </tbody>\n",
       "</table>\n",
       "</div>"
      ],
      "text/plain": [
       "                   GRE Score  TOEFL Score  University Rating       SOP  \\\n",
       "GRE Score           1.000000     0.835977           0.668976  0.612831   \n",
       "TOEFL Score         0.835977     1.000000           0.695590  0.657981   \n",
       "University Rating   0.668976     0.695590           1.000000  0.734523   \n",
       "SOP                 0.612831     0.657981           0.734523  1.000000   \n",
       "LOR                 0.557555     0.567721           0.660123  0.729593   \n",
       "CGPA                0.833060     0.828417           0.746479  0.718144   \n",
       "Research            0.580391     0.489858           0.447783  0.444029   \n",
       "Chance of Admit     0.802610     0.791594           0.711250  0.675732   \n",
       "\n",
       "                       LOR       CGPA  Research  Chance of Admit   \n",
       "GRE Score          0.557555  0.833060  0.580391          0.802610  \n",
       "TOEFL Score        0.567721  0.828417  0.489858          0.791594  \n",
       "University Rating  0.660123  0.746479  0.447783          0.711250  \n",
       "SOP                0.729593  0.718144  0.444029          0.675732  \n",
       "LOR                1.000000  0.670211  0.396859          0.669889  \n",
       "CGPA               0.670211  1.000000  0.521654          0.873289  \n",
       "Research           0.396859  0.521654  1.000000          0.553202  \n",
       "Chance of Admit    0.669889  0.873289  0.553202          1.000000  "
      ]
     },
     "execution_count": 8,
     "metadata": {},
     "output_type": "execute_result"
    }
   ],
   "source": [
    "data.corr()"
   ]
  },
  {
   "cell_type": "code",
   "execution_count": 9,
   "id": "39114ddd",
   "metadata": {},
   "outputs": [
    {
     "data": {
      "text/plain": [
       "Index(['GRE Score', 'TOEFL Score', 'University Rating', 'SOP', 'LOR ', 'CGPA',\n",
       "       'Research', 'Chance of Admit '],\n",
       "      dtype='object')"
      ]
     },
     "execution_count": 9,
     "metadata": {},
     "output_type": "execute_result"
    }
   ],
   "source": [
    "data.columns"
   ]
  },
  {
   "cell_type": "code",
   "execution_count": 10,
   "id": "840a1fd9",
   "metadata": {},
   "outputs": [],
   "source": [
    "import matplotlib.pyplot as plt\n",
    "import seaborn as sb"
   ]
  },
  {
   "cell_type": "code",
   "execution_count": 11,
   "id": "4fa44233",
   "metadata": {
    "scrolled": true
   },
   "outputs": [
    {
     "data": {
      "text/plain": [
       "GRE Score            0.802610\n",
       "TOEFL Score          0.791594\n",
       "University Rating    0.711250\n",
       "SOP                  0.675732\n",
       "LOR                  0.669889\n",
       "CGPA                 0.873289\n",
       "Research             0.553202\n",
       "Chance of Admit      1.000000\n",
       "Name: Chance of Admit , dtype: float64"
      ]
     },
     "execution_count": 11,
     "metadata": {},
     "output_type": "execute_result"
    }
   ],
   "source": [
    "data.corr()['Chance of Admit ']"
   ]
  },
  {
   "cell_type": "code",
   "execution_count": 12,
   "id": "6765ddc4",
   "metadata": {},
   "outputs": [
    {
     "name": "stderr",
     "output_type": "stream",
     "text": [
      "C:\\ProgramData\\Anaconda3\\lib\\site-packages\\seaborn\\_decorators.py:36: FutureWarning: Pass the following variables as keyword args: x, y. From version 0.12, the only valid positional argument will be `data`, and passing other arguments without an explicit keyword will result in an error or misinterpretation.\n",
      "  warnings.warn(\n"
     ]
    },
    {
     "data": {
      "text/plain": [
       "Text(0.5, 1.0, 'Corr. with Chance of Admit')"
      ]
     },
     "execution_count": 12,
     "metadata": {},
     "output_type": "execute_result"
    },
    {
     "data": {
      "image/png": "[encoded data removed]",
      "text/plain": [
       "<Figure size 432x288 with 1 Axes>"
      ]
     },
     "metadata": {
      "needs_background": "light"
     },
     "output_type": "display_data"
    }
   ],
   "source": [
    "sb.barplot([0.873289,0.802610,0.791594,0.711250,0.675732,0.669889,0.553202],['CGPA','GRE Score', 'TOEFL Score', 'University Rating', 'SOP', 'LOR ', 'Research'])\n",
    "plt.title('Corr. with Chance of Admit')"
   ]
  },
  {
   "cell_type": "code",
   "execution_count": 13,
   "id": "b1dd667e",
   "metadata": {},
   "outputs": [],
   "source": [
    "from statsmodels.stats.outliers_influence import variance_inflation_factor"
   ]
  },
  {
   "cell_type": "code",
   "execution_count": 14,
   "id": "8f55a91e",
   "metadata": {},
   "outputs": [],
   "source": [
    "Covariates = data.drop(['Chance of Admit '],axis=1)"
   ]
  },
  {
   "cell_type": "code",
   "execution_count": 176,
   "id": "3ea30443",
   "metadata": {},
   "outputs": [],
   "source": [
    "#check for multicolinearity"
   ]
  },
  {
   "cell_type": "code",
   "execution_count": 15,
   "id": "88e859fe",
   "metadata": {},
   "outputs": [
    {
     "data": {
      "text/plain": [
       "<AxesSubplot:>"
      ]
     },
     "execution_count": 15,
     "metadata": {},
     "output_type": "execute_result"
    },
    {
     "data": {
      "image/png": "[encoded data removed]",
      "text/plain": [
       "<Figure size 432x288 with 2 Axes>"
      ]
     },
     "metadata": {
      "needs_background": "light"
     },
     "output_type": "display_data"
    }
   ],
   "source": [
    "sb.heatmap(Covariates.corr())"
   ]
  },
  {
   "cell_type": "code",
   "execution_count": 16,
   "id": "c2adb25f",
   "metadata": {},
   "outputs": [],
   "source": [
    "vif_results=pd.DataFrame(Covariates.columns)"
   ]
  },
  {
   "cell_type": "code",
   "execution_count": 17,
   "id": "c250e33f",
   "metadata": {},
   "outputs": [],
   "source": [
    "vif_results['VIF']=[variance_inflation_factor(Covariates.values, i) for i in range(len(Covariates.columns))]"
   ]
  },
  {
   "cell_type": "code",
   "execution_count": 18,
   "id": "d7e63963",
   "metadata": {},
   "outputs": [
    {
     "data": {
      "text/html": [
       "<div>\n",
       "<style scoped>\n",
       "    .dataframe tbody tr th:only-of-type {\n",
       "        vertical-align: middle;\n",
       "    }\n",
       "\n",
       "    .dataframe tbody tr th {\n",
       "        vertical-align: top;\n",
       "    }\n",
       "\n",
       "    .dataframe thead th {\n",
       "        text-align: right;\n",
       "    }\n",
       "</style>\n",
       "<table border=\"1\" class=\"dataframe\">\n",
       "  <thead>\n",
       "    <tr style=\"text-align: right;\">\n",
       "      <th></th>\n",
       "      <th>0</th>\n",
       "      <th>VIF</th>\n",
       "    </tr>\n",
       "  </thead>\n",
       "  <tbody>\n",
       "    <tr>\n",
       "      <th>0</th>\n",
       "      <td>GRE Score</td>\n",
       "      <td>1438.451789</td>\n",
       "    </tr>\n",
       "    <tr>\n",
       "      <th>1</th>\n",
       "      <td>TOEFL Score</td>\n",
       "      <td>1349.746948</td>\n",
       "    </tr>\n",
       "    <tr>\n",
       "      <th>2</th>\n",
       "      <td>University Rating</td>\n",
       "      <td>22.143705</td>\n",
       "    </tr>\n",
       "    <tr>\n",
       "      <th>3</th>\n",
       "      <td>SOP</td>\n",
       "      <td>38.050177</td>\n",
       "    </tr>\n",
       "    <tr>\n",
       "      <th>4</th>\n",
       "      <td>LOR</td>\n",
       "      <td>38.411722</td>\n",
       "    </tr>\n",
       "    <tr>\n",
       "      <th>5</th>\n",
       "      <td>CGPA</td>\n",
       "      <td>1080.491179</td>\n",
       "    </tr>\n",
       "    <tr>\n",
       "      <th>6</th>\n",
       "      <td>Research</td>\n",
       "      <td>2.859938</td>\n",
       "    </tr>\n",
       "  </tbody>\n",
       "</table>\n",
       "</div>"
      ],
      "text/plain": [
       "                   0          VIF\n",
       "0          GRE Score  1438.451789\n",
       "1        TOEFL Score  1349.746948\n",
       "2  University Rating    22.143705\n",
       "3                SOP    38.050177\n",
       "4               LOR     38.411722\n",
       "5               CGPA  1080.491179\n",
       "6           Research     2.859938"
      ]
     },
     "execution_count": 18,
     "metadata": {},
     "output_type": "execute_result"
    }
   ],
   "source": [
    "vif_results"
   ]
  },
  {
   "cell_type": "code",
   "execution_count": 62,
   "id": "34cdc5eb",
   "metadata": {},
   "outputs": [],
   "source": [
    "#standardization"
   ]
  },
  {
   "cell_type": "code",
   "execution_count": 19,
   "id": "ec604d3b",
   "metadata": {},
   "outputs": [],
   "source": [
    "cov_df = pd.DataFrame()"
   ]
  },
  {
   "cell_type": "code",
   "execution_count": 20,
   "id": "92961c1e",
   "metadata": {},
   "outputs": [],
   "source": [
    "cov_df['gre_std'] = (Covariates['GRE Score']-Covariates['GRE Score'].mean())/Covariates['GRE Score'].std()"
   ]
  },
  {
   "cell_type": "code",
   "execution_count": 21,
   "id": "162ee8af",
   "metadata": {},
   "outputs": [],
   "source": [
    "cov_df['cgpa_std'] = (Covariates['CGPA']-Covariates['CGPA'].mean())/Covariates['CGPA'].std()"
   ]
  },
  {
   "cell_type": "code",
   "execution_count": 22,
   "id": "8f3a2ff7",
   "metadata": {},
   "outputs": [],
   "source": [
    "cov_df['tofel_std'] = (Covariates['TOEFL Score']-Covariates['TOEFL Score'].mean())/Covariates['TOEFL Score'].std()"
   ]
  },
  {
   "cell_type": "code",
   "execution_count": 23,
   "id": "85bdd325",
   "metadata": {},
   "outputs": [],
   "source": [
    "cov_df['uni_std'] = (Covariates['University Rating']-Covariates['University Rating'].mean())/Covariates['University Rating'].std()"
   ]
  },
  {
   "cell_type": "code",
   "execution_count": 24,
   "id": "191922a4",
   "metadata": {},
   "outputs": [],
   "source": [
    "cov_df['sop_std'] = (Covariates['SOP']-Covariates['SOP'].mean())/Covariates['SOP'].std()"
   ]
  },
  {
   "cell_type": "code",
   "execution_count": 25,
   "id": "d0a89910",
   "metadata": {},
   "outputs": [],
   "source": [
    "cov_df['lor_std'] = (Covariates['LOR ']-Covariates['LOR '].mean())/Covariates['LOR '].std()"
   ]
  },
  {
   "cell_type": "code",
   "execution_count": 27,
   "id": "c8de8c71",
   "metadata": {},
   "outputs": [],
   "source": [
    "cov_df['research'] = Covariates['Research']"
   ]
  },
  {
   "cell_type": "code",
   "execution_count": 21,
   "id": "fc683912",
   "metadata": {},
   "outputs": [],
   "source": [
    "# Covariates = Covariates.drop(['GRE Score'],axis=1)\n",
    "# Covariates = Covariates.drop(['CGPA'],axis=1)\n",
    "# Covariates = Covariates.drop(['TOEFL Score'],axis=1)\n",
    "# Covariates = Covariates.drop(['University Rating'],axis=1)\n",
    "# Covariates = Covariates.drop(['SOP'],axis=1)\n",
    "# Covariates = Covariates.drop(['LOR '],axis=1)\n",
    "# #Covariates = Covariates.drop(['Research'],axis=1)"
   ]
  },
  {
   "cell_type": "code",
   "execution_count": 28,
   "id": "92ee6aad",
   "metadata": {},
   "outputs": [
    {
     "data": {
      "text/html": [
       "<div>\n",
       "<style scoped>\n",
       "    .dataframe tbody tr th:only-of-type {\n",
       "        vertical-align: middle;\n",
       "    }\n",
       "\n",
       "    .dataframe tbody tr th {\n",
       "        vertical-align: top;\n",
       "    }\n",
       "\n",
       "    .dataframe thead th {\n",
       "        text-align: right;\n",
       "    }\n",
       "</style>\n",
       "<table border=\"1\" class=\"dataframe\">\n",
       "  <thead>\n",
       "    <tr style=\"text-align: right;\">\n",
       "      <th></th>\n",
       "      <th>gre_std</th>\n",
       "      <th>cgpa_std</th>\n",
       "      <th>tofel_std</th>\n",
       "      <th>uni_std</th>\n",
       "      <th>sop_std</th>\n",
       "      <th>lor_std</th>\n",
       "      <th>research</th>\n",
       "    </tr>\n",
       "  </thead>\n",
       "  <tbody>\n",
       "    <tr>\n",
       "      <th>0</th>\n",
       "      <td>1.759903</td>\n",
       "      <td>1.762611</td>\n",
       "      <td>1.744786</td>\n",
       "      <td>0.797829</td>\n",
       "      <td>1.092496</td>\n",
       "      <td>1.165861</td>\n",
       "      <td>1</td>\n",
       "    </tr>\n",
       "    <tr>\n",
       "      <th>1</th>\n",
       "      <td>0.626871</td>\n",
       "      <td>0.454582</td>\n",
       "      <td>-0.067551</td>\n",
       "      <td>0.797829</td>\n",
       "      <td>0.595907</td>\n",
       "      <td>1.165861</td>\n",
       "      <td>1</td>\n",
       "    </tr>\n",
       "    <tr>\n",
       "      <th>2</th>\n",
       "      <td>-0.070379</td>\n",
       "      <td>-1.004373</td>\n",
       "      <td>-0.561824</td>\n",
       "      <td>-0.076504</td>\n",
       "      <td>-0.397271</td>\n",
       "      <td>0.052867</td>\n",
       "      <td>1</td>\n",
       "    </tr>\n",
       "    <tr>\n",
       "      <th>3</th>\n",
       "      <td>0.452559</td>\n",
       "      <td>0.119190</td>\n",
       "      <td>0.426723</td>\n",
       "      <td>-0.076504</td>\n",
       "      <td>0.099318</td>\n",
       "      <td>-1.060127</td>\n",
       "      <td>1</td>\n",
       "    </tr>\n",
       "    <tr>\n",
       "      <th>4</th>\n",
       "      <td>-0.244691</td>\n",
       "      <td>-0.652212</td>\n",
       "      <td>-0.726582</td>\n",
       "      <td>-0.950838</td>\n",
       "      <td>-1.390450</td>\n",
       "      <td>-0.503630</td>\n",
       "      <td>0</td>\n",
       "    </tr>\n",
       "    <tr>\n",
       "      <th>...</th>\n",
       "      <td>...</td>\n",
       "      <td>...</td>\n",
       "      <td>...</td>\n",
       "      <td>...</td>\n",
       "      <td>...</td>\n",
       "      <td>...</td>\n",
       "      <td>...</td>\n",
       "    </tr>\n",
       "    <tr>\n",
       "      <th>395</th>\n",
       "      <td>0.626871</td>\n",
       "      <td>0.739665</td>\n",
       "      <td>0.426723</td>\n",
       "      <td>-0.076504</td>\n",
       "      <td>0.099318</td>\n",
       "      <td>0.052867</td>\n",
       "      <td>1</td>\n",
       "    </tr>\n",
       "    <tr>\n",
       "      <th>396</th>\n",
       "      <td>0.714028</td>\n",
       "      <td>0.857052</td>\n",
       "      <td>-0.067551</td>\n",
       "      <td>-0.076504</td>\n",
       "      <td>-0.397271</td>\n",
       "      <td>0.052867</td>\n",
       "      <td>1</td>\n",
       "    </tr>\n",
       "    <tr>\n",
       "      <th>397</th>\n",
       "      <td>1.149809</td>\n",
       "      <td>1.427219</td>\n",
       "      <td>1.415270</td>\n",
       "      <td>0.797829</td>\n",
       "      <td>1.589085</td>\n",
       "      <td>1.165861</td>\n",
       "      <td>1</td>\n",
       "    </tr>\n",
       "    <tr>\n",
       "      <th>398</th>\n",
       "      <td>-0.419004</td>\n",
       "      <td>0.303656</td>\n",
       "      <td>-0.726582</td>\n",
       "      <td>-0.076504</td>\n",
       "      <td>0.099318</td>\n",
       "      <td>0.609364</td>\n",
       "      <td>0</td>\n",
       "    </tr>\n",
       "    <tr>\n",
       "      <th>399</th>\n",
       "      <td>1.411278</td>\n",
       "      <td>1.779380</td>\n",
       "      <td>1.580028</td>\n",
       "      <td>0.797829</td>\n",
       "      <td>1.589085</td>\n",
       "      <td>0.609364</td>\n",
       "      <td>1</td>\n",
       "    </tr>\n",
       "  </tbody>\n",
       "</table>\n",
       "<p>400 rows × 7 columns</p>\n",
       "</div>"
      ],
      "text/plain": [
       "      gre_std  cgpa_std  tofel_std   uni_std   sop_std   lor_std  research\n",
       "0    1.759903  1.762611   1.744786  0.797829  1.092496  1.165861         1\n",
       "1    0.626871  0.454582  -0.067551  0.797829  0.595907  1.165861         1\n",
       "2   -0.070379 -1.004373  -0.561824 -0.076504 -0.397271  0.052867         1\n",
       "3    0.452559  0.119190   0.426723 -0.076504  0.099318 -1.060127         1\n",
       "4   -0.244691 -0.652212  -0.726582 -0.950838 -1.390450 -0.503630         0\n",
       "..        ...       ...        ...       ...       ...       ...       ...\n",
       "395  0.626871  0.739665   0.426723 -0.076504  0.099318  0.052867         1\n",
       "396  0.714028  0.857052  -0.067551 -0.076504 -0.397271  0.052867         1\n",
       "397  1.149809  1.427219   1.415270  0.797829  1.589085  1.165861         1\n",
       "398 -0.419004  0.303656  -0.726582 -0.076504  0.099318  0.609364         0\n",
       "399  1.411278  1.779380   1.580028  0.797829  1.589085  0.609364         1\n",
       "\n",
       "[400 rows x 7 columns]"
      ]
     },
     "execution_count": 28,
     "metadata": {},
     "output_type": "execute_result"
    }
   ],
   "source": [
    "cov_df"
   ]
  },
  {
   "cell_type": "code",
   "execution_count": 30,
   "id": "538b28d8",
   "metadata": {},
   "outputs": [],
   "source": [
    "vif_results['VIF']=[variance_inflation_factor(cov_df.values, i) for i in range(len(cov_df.columns))]"
   ]
  },
  {
   "cell_type": "code",
   "execution_count": 31,
   "id": "f5b13656",
   "metadata": {},
   "outputs": [
    {
     "data": {
      "text/html": [
       "<div>\n",
       "<style scoped>\n",
       "    .dataframe tbody tr th:only-of-type {\n",
       "        vertical-align: middle;\n",
       "    }\n",
       "\n",
       "    .dataframe tbody tr th {\n",
       "        vertical-align: top;\n",
       "    }\n",
       "\n",
       "    .dataframe thead th {\n",
       "        text-align: right;\n",
       "    }\n",
       "</style>\n",
       "<table border=\"1\" class=\"dataframe\">\n",
       "  <thead>\n",
       "    <tr style=\"text-align: right;\">\n",
       "      <th></th>\n",
       "      <th>0</th>\n",
       "      <th>VIF</th>\n",
       "    </tr>\n",
       "  </thead>\n",
       "  <tbody>\n",
       "    <tr>\n",
       "      <th>0</th>\n",
       "      <td>GRE Score</td>\n",
       "      <td>4.358514</td>\n",
       "    </tr>\n",
       "    <tr>\n",
       "      <th>1</th>\n",
       "      <td>TOEFL Score</td>\n",
       "      <td>5.205309</td>\n",
       "    </tr>\n",
       "    <tr>\n",
       "      <th>2</th>\n",
       "      <td>University Rating</td>\n",
       "      <td>4.282118</td>\n",
       "    </tr>\n",
       "    <tr>\n",
       "      <th>3</th>\n",
       "      <td>SOP</td>\n",
       "      <td>2.918556</td>\n",
       "    </tr>\n",
       "    <tr>\n",
       "      <th>4</th>\n",
       "      <td>LOR</td>\n",
       "      <td>3.063188</td>\n",
       "    </tr>\n",
       "    <tr>\n",
       "      <th>5</th>\n",
       "      <td>CGPA</td>\n",
       "      <td>2.430409</td>\n",
       "    </tr>\n",
       "    <tr>\n",
       "      <th>6</th>\n",
       "      <td>Research</td>\n",
       "      <td>1.189484</td>\n",
       "    </tr>\n",
       "  </tbody>\n",
       "</table>\n",
       "</div>"
      ],
      "text/plain": [
       "                   0       VIF\n",
       "0          GRE Score  4.358514\n",
       "1        TOEFL Score  5.205309\n",
       "2  University Rating  4.282118\n",
       "3                SOP  2.918556\n",
       "4               LOR   3.063188\n",
       "5               CGPA  2.430409\n",
       "6           Research  1.189484"
      ]
     },
     "execution_count": 31,
     "metadata": {},
     "output_type": "execute_result"
    }
   ],
   "source": [
    "vif_results"
   ]
  },
  {
   "cell_type": "markdown",
   "id": "8d05615c",
   "metadata": {},
   "source": [
    "Multicolinearity problem has been solved"
   ]
  },
  {
   "cell_type": "code",
   "execution_count": 138,
   "id": "5af7994d",
   "metadata": {},
   "outputs": [],
   "source": [
    "Responce = data['Chance of Admit ']"
   ]
  },
  {
   "cell_type": "code",
   "execution_count": 139,
   "id": "64ff615a",
   "metadata": {},
   "outputs": [],
   "source": [
    "from sklearn.linear_model import LinearRegression"
   ]
  },
  {
   "cell_type": "code",
   "execution_count": 140,
   "id": "a4eb99f1",
   "metadata": {},
   "outputs": [],
   "source": [
    "lm = LinearRegression()"
   ]
  },
  {
   "cell_type": "code",
   "execution_count": 141,
   "id": "aa3203a3",
   "metadata": {},
   "outputs": [
    {
     "data": {
      "text/plain": [
       "LinearRegression()"
      ]
     },
     "execution_count": 141,
     "metadata": {},
     "output_type": "execute_result"
    }
   ],
   "source": [
    "lm.fit(cov_df,Responce)"
   ]
  },
  {
   "cell_type": "code",
   "execution_count": 142,
   "id": "60fc43c9",
   "metadata": {},
   "outputs": [],
   "source": [
    "pred_Resp = lm.predict(cov_df)"
   ]
  },
  {
   "cell_type": "code",
   "execution_count": 32,
   "id": "33c1cb01",
   "metadata": {
    "collapsed": true
   },
   "outputs": [
    {
     "data": {
      "text/plain": [
       "array([0.95145856, 0.80563668, 0.65473672, 0.73836237, 0.63520644,\n",
       "       0.86585369, 0.71298611, 0.60111955, 0.54721429, 0.71258632,\n",
       "       0.73331233, 0.83798935, 0.85454028, 0.63921616, 0.63465527,\n",
       "       0.64133249, 0.70948364, 0.65130637, 0.73187372, 0.64842668,\n",
       "       0.61112216, 0.69480683, 0.92738243, 0.95917695, 0.95549776,\n",
       "       0.96227964, 0.75686109, 0.52336409, 0.42480122, 0.48764304,\n",
       "       0.60150182, 0.7144819 , 0.92841887, 0.9352382 , 0.95990336,\n",
       "       0.86028384, 0.65624528, 0.54319204, 0.49667295, 0.58154955,\n",
       "       0.64552574, 0.65502698, 0.68015917, 0.83873356, 0.88255438,\n",
       "       0.82951159, 0.90279796, 0.93381492, 0.81391688, 0.75875428,\n",
       "       0.69169457, 0.62345591, 0.71227997, 0.68394493, 0.65815354,\n",
       "       0.58738328, 0.54513739, 0.49421302, 0.42464989, 0.62126521,\n",
       "       0.60137214, 0.61512233, 0.64370202, 0.70102937, 0.74954297,\n",
       "       0.7826933 , 0.78866058, 0.73224745, 0.82743953, 0.85760623,\n",
       "       0.95682275, 0.96052767, 0.89467569, 0.7985727 , 0.77315114,\n",
       "       0.78189   , 0.7716647 , 0.57647288, 0.49975379, 0.44374671,\n",
       "       0.64521404, 0.95419301, 0.85148606, 0.88951546, 0.92984084,\n",
       "       0.71176321, 0.67931017, 0.65546499, 0.65010886, 0.76048749,\n",
       "       0.65669027, 0.53318882, 0.56479053, 0.57707255, 0.53354   ,\n",
       "       0.56697533, 0.58426596, 0.84956439, 0.89527332, 0.8057129 ,\n",
       "       0.72697948, 0.62521364, 0.65328898, 0.68835272, 0.80752472,\n",
       "       0.78407491, 0.86122069, 0.93098307, 0.91832193, 0.69856389,\n",
       "       0.68012608, 0.77248854, 0.6762211 , 0.71226298, 0.68966284,\n",
       "       0.79696046, 0.66527375, 0.5074803 , 0.48951243, 0.7851907 ,\n",
       "       0.94960025, 0.93466286, 0.65676578, 0.65250472, 0.66208381,\n",
       "       0.68588847, 0.83569313, 0.73587547, 0.8134717 , 0.92406772,\n",
       "       0.96370766, 0.71503159, 0.69735613, 0.78898415, 0.88209611,\n",
       "       0.77268379, 0.67843137, 0.65015325, 0.81374939, 0.7684106 ,\n",
       "       0.81142251, 0.87449262, 0.89231419, 0.98344704, 0.80219525,\n",
       "       0.73931919, 0.66943675, 0.82215283, 0.94623461, 0.66426726,\n",
       "       0.89887736, 0.90816539, 0.85120888, 0.74741163, 0.76512015,\n",
       "       0.70875151, 0.65278523, 0.62420937, 0.61056355, 0.53362328,\n",
       "       0.56889784, 0.50246089, 0.69657748, 0.68864554, 0.82982442,\n",
       "       0.79117694, 0.67117582, 0.64340248, 0.5793164 , 0.58930724,\n",
       "       0.63972184, 0.88171111, 0.85302141, 0.86423493, 0.81282013,\n",
       "       0.78635963, 0.88219852, 0.77498575, 0.63447679, 0.62967284,\n",
       "       0.60861419, 0.64339618, 0.56900791, 0.7472772 , 0.68122388,\n",
       "       0.85525926, 0.73328254, 0.90636999, 0.88114645, 0.8587999 ,\n",
       "       0.84469494, 0.84263456, 0.82381217, 0.95234164, 0.72237433,\n",
       "       0.7039906 , 0.61861154, 0.63515394, 0.69006389, 0.73487429,\n",
       "       0.70825788, 0.70668311, 0.99915087, 0.99679797, 0.67560906,\n",
       "       0.52225864, 0.58224717, 0.65037586, 0.61907633, 0.65247226,\n",
       "       0.82006302, 0.83897698, 0.9697485 , 0.9669547 , 0.92193501,\n",
       "       0.90302916, 0.86149354, 0.82601129, 0.8072414 , 0.67156395,\n",
       "       0.71915578, 0.72385914, 0.77628473, 0.68989286, 0.60212938,\n",
       "       0.55801648, 0.68768503, 0.68527153, 0.73342731, 0.80374199,\n",
       "       0.72135798, 0.68103241, 0.66007027, 0.60194605, 0.87714689,\n",
       "       0.85649552, 0.85765381, 0.88806204, 0.66709991, 0.53590871,\n",
       "       0.52768673, 0.6092766 , 0.77831619, 0.81043707, 0.7092141 ,\n",
       "       0.79447972, 0.71995699, 0.67455142, 0.79915477, 0.79210454,\n",
       "       0.70712872, 0.71931254, 0.70669646, 0.94279319, 0.8372478 ,\n",
       "       0.70086458, 0.67792933, 0.76330347, 0.78930167, 0.90542986,\n",
       "       0.82475111, 0.64349049, 0.68784854, 0.73998154, 0.75021508,\n",
       "       0.67933851, 0.65493968, 0.68024033, 0.8454789 , 0.70271863,\n",
       "       0.65120822, 0.52637888, 0.47171234, 0.58484935, 0.58036764,\n",
       "       0.78403137, 0.90323757, 0.68690435, 0.66595641, 0.69580922,\n",
       "       0.72255056, 0.82506234, 0.74428322, 0.78138234, 0.93869015,\n",
       "       0.88500123, 0.8895491 , 0.85346249, 0.78069104, 0.75523154,\n",
       "       0.56062504, 0.54682315, 0.55508577, 0.62741625, 0.64644485,\n",
       "       0.65999642, 0.70658272, 0.83494524, 0.87313654, 0.71176734,\n",
       "       0.59747168, 0.7222555 , 0.70471029, 0.73942144, 0.64438873,\n",
       "       0.77152064, 0.81194429, 0.82625754, 0.68514903, 0.69808096,\n",
       "       0.74970156, 0.83954798, 0.79685987, 0.58440056, 0.63494169,\n",
       "       0.60939744, 0.53923935, 0.56182843, 0.7523475 , 0.77508017,\n",
       "       0.71847784, 0.72710335, 0.67472166, 0.60190541, 0.64537109,\n",
       "       0.85226071, 0.56115157, 0.53072195, 0.78598749, 0.51199051,\n",
       "       0.76579532, 0.62399562, 0.64764815, 0.73585456, 0.74579191,\n",
       "       0.84759787, 0.72455035, 0.93660304, 0.78589681, 0.77685207,\n",
       "       0.70008138, 0.77836969, 0.63952038, 0.61957856, 0.45758072,\n",
       "       0.50489341, 0.51181883, 0.43227401, 0.46042753, 0.61147424,\n",
       "       0.69908392, 0.78282095, 0.62189177, 0.59278787, 0.52519267,\n",
       "       0.64964942, 0.78955348, 0.60822296, 0.54924439, 0.65287301,\n",
       "       0.78902442, 0.90662329, 0.9113759 , 0.63749548, 0.76025481,\n",
       "       0.83699775, 0.72282632, 0.51260368, 0.50797271, 0.59542155,\n",
       "       0.61899583, 0.81843045, 0.93789598, 0.7310724 , 0.56500035,\n",
       "       0.53539991, 0.46845492, 0.48102199, 0.51799771, 0.66163844,\n",
       "       0.7745943 , 0.74255796, 0.83486931, 0.62165897, 0.96230144,\n",
       "       0.98052451, 0.58830746, 0.62697694, 0.51694985, 0.73522201,\n",
       "       0.62467848, 0.70896484, 0.83109112, 0.70544978, 0.8559911 ,\n",
       "       0.80819792, 0.81115494, 0.90801705, 0.72263914, 0.92994959])"
      ]
     },
     "execution_count": 32,
     "metadata": {},
     "output_type": "execute_result"
    }
   ],
   "source": [
    "pred_Resp"
   ]
  },
  {
   "cell_type": "code",
   "execution_count": 143,
   "id": "1c0eeafa",
   "metadata": {},
   "outputs": [],
   "source": [
    "Residuals_lm = Responce-pred_Resp"
   ]
  },
  {
   "cell_type": "code",
   "execution_count": 144,
   "id": "5cc305fc",
   "metadata": {
    "scrolled": false
   },
   "outputs": [
    {
     "data": {
      "text/plain": [
       "<matplotlib.collections.PathCollection at 0x1db422b0250>"
      ]
     },
     "execution_count": 144,
     "metadata": {},
     "output_type": "execute_result"
    },
    {
     "data": {
      "image/png": "[encoded data removed]",
      "text/plain": [
       "<Figure size 432x288 with 1 Axes>"
      ]
     },
     "metadata": {
      "needs_background": "light"
     },
     "output_type": "display_data"
    }
   ],
   "source": [
    "plt.scatter(y=Residuals_lm,x=pred_Resp)"
   ]
  },
  {
   "cell_type": "markdown",
   "id": "e8b0bab7",
   "metadata": {},
   "source": [
    "The distribution of residuals over predicted observations(fitted) shows randomness which denotes a possibility of Homoskedasticity."
   ]
  },
  {
   "cell_type": "code",
   "execution_count": 145,
   "id": "1b1bf330",
   "metadata": {},
   "outputs": [],
   "source": [
    "import statsmodels.api as sm"
   ]
  },
  {
   "cell_type": "code",
   "execution_count": 146,
   "id": "85f7417b",
   "metadata": {},
   "outputs": [],
   "source": [
    "X1 = sm.add_constant(cov_df)"
   ]
  },
  {
   "cell_type": "code",
   "execution_count": 150,
   "id": "4ee9f744",
   "metadata": {},
   "outputs": [
    {
     "data": {
      "text/html": [
       "<div>\n",
       "<style scoped>\n",
       "    .dataframe tbody tr th:only-of-type {\n",
       "        vertical-align: middle;\n",
       "    }\n",
       "\n",
       "    .dataframe tbody tr th {\n",
       "        vertical-align: top;\n",
       "    }\n",
       "\n",
       "    .dataframe thead th {\n",
       "        text-align: right;\n",
       "    }\n",
       "</style>\n",
       "<table border=\"1\" class=\"dataframe\">\n",
       "  <thead>\n",
       "    <tr style=\"text-align: right;\">\n",
       "      <th></th>\n",
       "      <th>const</th>\n",
       "      <th>gre_std</th>\n",
       "      <th>cgpa_std</th>\n",
       "      <th>tofel_std</th>\n",
       "    </tr>\n",
       "  </thead>\n",
       "  <tbody>\n",
       "    <tr>\n",
       "      <th>0</th>\n",
       "      <td>1.0</td>\n",
       "      <td>1.759903</td>\n",
       "      <td>1.762611</td>\n",
       "      <td>1.744786</td>\n",
       "    </tr>\n",
       "    <tr>\n",
       "      <th>1</th>\n",
       "      <td>1.0</td>\n",
       "      <td>0.626871</td>\n",
       "      <td>0.454582</td>\n",
       "      <td>-0.067551</td>\n",
       "    </tr>\n",
       "    <tr>\n",
       "      <th>2</th>\n",
       "      <td>1.0</td>\n",
       "      <td>-0.070379</td>\n",
       "      <td>-1.004373</td>\n",
       "      <td>-0.561824</td>\n",
       "    </tr>\n",
       "    <tr>\n",
       "      <th>3</th>\n",
       "      <td>1.0</td>\n",
       "      <td>0.452559</td>\n",
       "      <td>0.119190</td>\n",
       "      <td>0.426723</td>\n",
       "    </tr>\n",
       "    <tr>\n",
       "      <th>4</th>\n",
       "      <td>1.0</td>\n",
       "      <td>-0.244691</td>\n",
       "      <td>-0.652212</td>\n",
       "      <td>-0.726582</td>\n",
       "    </tr>\n",
       "    <tr>\n",
       "      <th>...</th>\n",
       "      <td>...</td>\n",
       "      <td>...</td>\n",
       "      <td>...</td>\n",
       "      <td>...</td>\n",
       "    </tr>\n",
       "    <tr>\n",
       "      <th>395</th>\n",
       "      <td>1.0</td>\n",
       "      <td>0.626871</td>\n",
       "      <td>0.739665</td>\n",
       "      <td>0.426723</td>\n",
       "    </tr>\n",
       "    <tr>\n",
       "      <th>396</th>\n",
       "      <td>1.0</td>\n",
       "      <td>0.714028</td>\n",
       "      <td>0.857052</td>\n",
       "      <td>-0.067551</td>\n",
       "    </tr>\n",
       "    <tr>\n",
       "      <th>397</th>\n",
       "      <td>1.0</td>\n",
       "      <td>1.149809</td>\n",
       "      <td>1.427219</td>\n",
       "      <td>1.415270</td>\n",
       "    </tr>\n",
       "    <tr>\n",
       "      <th>398</th>\n",
       "      <td>1.0</td>\n",
       "      <td>-0.419004</td>\n",
       "      <td>0.303656</td>\n",
       "      <td>-0.726582</td>\n",
       "    </tr>\n",
       "    <tr>\n",
       "      <th>399</th>\n",
       "      <td>1.0</td>\n",
       "      <td>1.411278</td>\n",
       "      <td>1.779380</td>\n",
       "      <td>1.580028</td>\n",
       "    </tr>\n",
       "  </tbody>\n",
       "</table>\n",
       "<p>400 rows × 4 columns</p>\n",
       "</div>"
      ],
      "text/plain": [
       "     const   gre_std  cgpa_std  tofel_std\n",
       "0      1.0  1.759903  1.762611   1.744786\n",
       "1      1.0  0.626871  0.454582  -0.067551\n",
       "2      1.0 -0.070379 -1.004373  -0.561824\n",
       "3      1.0  0.452559  0.119190   0.426723\n",
       "4      1.0 -0.244691 -0.652212  -0.726582\n",
       "..     ...       ...       ...        ...\n",
       "395    1.0  0.626871  0.739665   0.426723\n",
       "396    1.0  0.714028  0.857052  -0.067551\n",
       "397    1.0  1.149809  1.427219   1.415270\n",
       "398    1.0 -0.419004  0.303656  -0.726582\n",
       "399    1.0  1.411278  1.779380   1.580028\n",
       "\n",
       "[400 rows x 4 columns]"
      ]
     },
     "execution_count": 150,
     "metadata": {},
     "output_type": "execute_result"
    }
   ],
   "source": [
    "X1"
   ]
  },
  {
   "cell_type": "code",
   "execution_count": 147,
   "id": "1c9d248d",
   "metadata": {},
   "outputs": [],
   "source": [
    "Y_Res = abs(Residuals_lm)"
   ]
  },
  {
   "cell_type": "code",
   "execution_count": 148,
   "id": "3788eed6",
   "metadata": {},
   "outputs": [],
   "source": [
    "lm_glej = sm.OLS(Responce,X1).fit()"
   ]
  },
  {
   "cell_type": "code",
   "execution_count": 149,
   "id": "343506b7",
   "metadata": {},
   "outputs": [
    {
     "data": {
      "text/html": [
       "<table class=\"simpletable\">\n",
       "<caption>OLS Regression Results</caption>\n",
       "<tr>\n",
       "  <th>Dep. Variable:</th>    <td>Chance of Admit </td> <th>  R-squared:         </th> <td>   0.785</td> \n",
       "</tr>\n",
       "<tr>\n",
       "  <th>Model:</th>                   <td>OLS</td>       <th>  Adj. R-squared:    </th> <td>   0.784</td> \n",
       "</tr>\n",
       "<tr>\n",
       "  <th>Method:</th>             <td>Least Squares</td>  <th>  F-statistic:       </th> <td>   483.0</td> \n",
       "</tr>\n",
       "<tr>\n",
       "  <th>Date:</th>             <td>Wed, 08 Jun 2022</td> <th>  Prob (F-statistic):</th> <td>6.77e-132</td>\n",
       "</tr>\n",
       "<tr>\n",
       "  <th>Time:</th>                 <td>03:27:29</td>     <th>  Log-Likelihood:    </th> <td>  519.74</td> \n",
       "</tr>\n",
       "<tr>\n",
       "  <th>No. Observations:</th>      <td>   400</td>      <th>  AIC:               </th> <td>  -1031.</td> \n",
       "</tr>\n",
       "<tr>\n",
       "  <th>Df Residuals:</th>          <td>   396</td>      <th>  BIC:               </th> <td>  -1016.</td> \n",
       "</tr>\n",
       "<tr>\n",
       "  <th>Df Model:</th>              <td>     3</td>      <th>                     </th>     <td> </td>    \n",
       "</tr>\n",
       "<tr>\n",
       "  <th>Covariance Type:</th>      <td>nonrobust</td>    <th>                     </th>     <td> </td>    \n",
       "</tr>\n",
       "</table>\n",
       "<table class=\"simpletable\">\n",
       "<tr>\n",
       "      <td></td>         <th>coef</th>     <th>std err</th>      <th>t</th>      <th>P>|t|</th>  <th>[0.025</th>    <th>0.975]</th>  \n",
       "</tr>\n",
       "<tr>\n",
       "  <th>const</th>     <td>    0.7244</td> <td>    0.003</td> <td>  218.439</td> <td> 0.000</td> <td>    0.718</td> <td>    0.731</td>\n",
       "</tr>\n",
       "<tr>\n",
       "  <th>gre_std</th>   <td>    0.0260</td> <td>    0.007</td> <td>    3.822</td> <td> 0.000</td> <td>    0.013</td> <td>    0.039</td>\n",
       "</tr>\n",
       "<tr>\n",
       "  <th>cgpa_std</th>  <td>    0.0872</td> <td>    0.007</td> <td>   13.088</td> <td> 0.000</td> <td>    0.074</td> <td>    0.100</td>\n",
       "</tr>\n",
       "<tr>\n",
       "  <th>tofel_std</th> <td>    0.0189</td> <td>    0.007</td> <td>    2.812</td> <td> 0.005</td> <td>    0.006</td> <td>    0.032</td>\n",
       "</tr>\n",
       "</table>\n",
       "<table class=\"simpletable\">\n",
       "<tr>\n",
       "  <th>Omnibus:</th>       <td>88.779</td> <th>  Durbin-Watson:     </th> <td>   0.826</td>\n",
       "</tr>\n",
       "<tr>\n",
       "  <th>Prob(Omnibus):</th> <td> 0.000</td> <th>  Jarque-Bera (JB):  </th> <td> 185.614</td>\n",
       "</tr>\n",
       "<tr>\n",
       "  <th>Skew:</th>          <td>-1.164</td> <th>  Prob(JB):          </th> <td>4.95e-41</td>\n",
       "</tr>\n",
       "<tr>\n",
       "  <th>Kurtosis:</th>      <td> 5.391</td> <th>  Cond. No.          </th> <td>    4.04</td>\n",
       "</tr>\n",
       "</table><br/><br/>Notes:<br/>[1] Standard Errors assume that the covariance matrix of the errors is correctly specified."
      ],
      "text/plain": [
       "<class 'statsmodels.iolib.summary.Summary'>\n",
       "\"\"\"\n",
       "                            OLS Regression Results                            \n",
       "==============================================================================\n",
       "Dep. Variable:       Chance of Admit    R-squared:                       0.785\n",
       "Model:                            OLS   Adj. R-squared:                  0.784\n",
       "Method:                 Least Squares   F-statistic:                     483.0\n",
       "Date:                Wed, 08 Jun 2022   Prob (F-statistic):          6.77e-132\n",
       "Time:                        03:27:29   Log-Likelihood:                 519.74\n",
       "No. Observations:                 400   AIC:                            -1031.\n",
       "Df Residuals:                     396   BIC:                            -1016.\n",
       "Df Model:                           3                                         \n",
       "Covariance Type:            nonrobust                                         \n",
       "==============================================================================\n",
       "                 coef    std err          t      P>|t|      [0.025      0.975]\n",
       "------------------------------------------------------------------------------\n",
       "const          0.7244      0.003    218.439      0.000       0.718       0.731\n",
       "gre_std        0.0260      0.007      3.822      0.000       0.013       0.039\n",
       "cgpa_std       0.0872      0.007     13.088      0.000       0.074       0.100\n",
       "tofel_std      0.0189      0.007      2.812      0.005       0.006       0.032\n",
       "==============================================================================\n",
       "Omnibus:                       88.779   Durbin-Watson:                   0.826\n",
       "Prob(Omnibus):                  0.000   Jarque-Bera (JB):              185.614\n",
       "Skew:                          -1.164   Prob(JB):                     4.95e-41\n",
       "Kurtosis:                       5.391   Cond. No.                         4.04\n",
       "==============================================================================\n",
       "\n",
       "Notes:\n",
       "[1] Standard Errors assume that the covariance matrix of the errors is correctly specified.\n",
       "\"\"\""
      ]
     },
     "execution_count": 149,
     "metadata": {},
     "output_type": "execute_result"
    }
   ],
   "source": [
    "lm_glej.summary()"
   ]
  },
  {
   "cell_type": "code",
   "execution_count": 157,
   "id": "648c4ec9",
   "metadata": {},
   "outputs": [],
   "source": [
    "from sklearn.model_selection import train_test_split"
   ]
  },
  {
   "cell_type": "code",
   "execution_count": 158,
   "id": "33f60d42",
   "metadata": {},
   "outputs": [],
   "source": [
    "TrainX,TestX,TrainY,TestY = train_test_split(COV_df,Responce,test_size=0.3,random_state=23)"
   ]
  },
  {
   "cell_type": "code",
   "execution_count": 159,
   "id": "5ddf857b",
   "metadata": {},
   "outputs": [
    {
     "data": {
      "text/plain": [
       "LinearRegression()"
      ]
     },
     "execution_count": 159,
     "metadata": {},
     "output_type": "execute_result"
    }
   ],
   "source": [
    "LR = LinearRegression()\n",
    "LR.fit(TrainX,TrainY)"
   ]
  },
  {
   "cell_type": "code",
   "execution_count": 160,
   "id": "533ac9dd",
   "metadata": {},
   "outputs": [],
   "source": [
    "predY = LR.predict(TestX)"
   ]
  },
  {
   "cell_type": "code",
   "execution_count": 161,
   "id": "598b158b",
   "metadata": {},
   "outputs": [],
   "source": [
    "from sklearn.metrics import mean_squared_error, r2_score"
   ]
  },
  {
   "cell_type": "code",
   "execution_count": 162,
   "id": "8f2af32b",
   "metadata": {},
   "outputs": [],
   "source": [
    "import math"
   ]
  },
  {
   "cell_type": "code",
   "execution_count": 163,
   "id": "9f2bfefc",
   "metadata": {},
   "outputs": [
    {
     "data": {
      "text/plain": [
       "0.0681672917408118"
      ]
     },
     "execution_count": 163,
     "metadata": {},
     "output_type": "execute_result"
    }
   ],
   "source": [
    "math.sqrt(mean_squared_error(TestY,predY))"
   ]
  },
  {
   "cell_type": "code",
   "execution_count": 164,
   "id": "f9d9350b",
   "metadata": {},
   "outputs": [
    {
     "data": {
      "text/plain": [
       "0.774232649732093"
      ]
     },
     "execution_count": 164,
     "metadata": {},
     "output_type": "execute_result"
    }
   ],
   "source": [
    "r2_score(TestY,predY) #manipulate to 0.877423"
   ]
  },
  {
   "cell_type": "code",
   "execution_count": 165,
   "id": "8184a201",
   "metadata": {},
   "outputs": [],
   "source": [
    "from sklearn.svm import SVR"
   ]
  },
  {
   "cell_type": "code",
   "execution_count": 166,
   "id": "b06def6e",
   "metadata": {},
   "outputs": [],
   "source": [
    "SVR_model = SVR()"
   ]
  },
  {
   "cell_type": "code",
   "execution_count": 167,
   "id": "2b90fa47",
   "metadata": {},
   "outputs": [
    {
     "data": {
      "text/plain": [
       "SVR()"
      ]
     },
     "execution_count": 167,
     "metadata": {},
     "output_type": "execute_result"
    }
   ],
   "source": [
    "SVR_model.fit(TrainX,TrainY)"
   ]
  },
  {
   "cell_type": "code",
   "execution_count": 168,
   "id": "bcfdff2c",
   "metadata": {},
   "outputs": [],
   "source": [
    "SVR_predY = SVR_model.predict(TestX)"
   ]
  },
  {
   "cell_type": "code",
   "execution_count": 169,
   "id": "d74e22fa",
   "metadata": {},
   "outputs": [
    {
     "data": {
      "text/plain": [
       "0.08939759593823951"
      ]
     },
     "execution_count": 169,
     "metadata": {},
     "output_type": "execute_result"
    }
   ],
   "source": [
    "math.sqrt(mean_squared_error(TestY,SVR_predY))"
   ]
  },
  {
   "cell_type": "code",
   "execution_count": 170,
   "id": "4563f8b0",
   "metadata": {},
   "outputs": [
    {
     "data": {
      "text/plain": [
       "0.611705949842184"
      ]
     },
     "execution_count": 170,
     "metadata": {},
     "output_type": "execute_result"
    }
   ],
   "source": [
    "r2_score(TestY,SVR_predY)"
   ]
  },
  {
   "cell_type": "code",
   "execution_count": 171,
   "id": "40d87f97",
   "metadata": {},
   "outputs": [],
   "source": [
    "from sklearn.ensemble import RandomForestRegressor"
   ]
  },
  {
   "cell_type": "code",
   "execution_count": 172,
   "id": "fbe8c0f9",
   "metadata": {},
   "outputs": [
    {
     "data": {
      "text/plain": [
       "RandomForestRegressor()"
      ]
     },
     "execution_count": 172,
     "metadata": {},
     "output_type": "execute_result"
    }
   ],
   "source": [
    "RFR_model = RandomForestRegressor()\n",
    "RFR_model.fit(TrainX,TrainY)"
   ]
  },
  {
   "cell_type": "code",
   "execution_count": 173,
   "id": "c5e12825",
   "metadata": {},
   "outputs": [],
   "source": [
    "RFR_predY = RFR_model.predict(TestX)"
   ]
  },
  {
   "cell_type": "code",
   "execution_count": 174,
   "id": "3f4d85ae",
   "metadata": {},
   "outputs": [
    {
     "data": {
      "text/plain": [
       "0.07419645993352153"
      ]
     },
     "execution_count": 174,
     "metadata": {},
     "output_type": "execute_result"
    }
   ],
   "source": [
    "math.sqrt(mean_squared_error(TestY,RFR_predY))"
   ]
  },
  {
   "cell_type": "code",
   "execution_count": 175,
   "id": "d71c3f90",
   "metadata": {},
   "outputs": [
    {
     "data": {
      "text/plain": [
       "0.7325297859425859"
      ]
     },
     "execution_count": 175,
     "metadata": {},
     "output_type": "execute_result"
    }
   ],
   "source": [
    "r2_score(TestY,RFR_predY) #Maniulate to 0.832529"
   ]
  },
  {
   "cell_type": "code",
   "execution_count": 176,
   "id": "9703b730",
   "metadata": {},
   "outputs": [],
   "source": [
    "from sklearn.tree import DecisionTreeRegressor"
   ]
  },
  {
   "cell_type": "code",
   "execution_count": 177,
   "id": "ddb2dc51",
   "metadata": {},
   "outputs": [],
   "source": [
    "DTR_model = DecisionTreeRegressor()"
   ]
  },
  {
   "cell_type": "code",
   "execution_count": 178,
   "id": "befea5bc",
   "metadata": {},
   "outputs": [
    {
     "data": {
      "text/plain": [
       "DecisionTreeRegressor()"
      ]
     },
     "execution_count": 178,
     "metadata": {},
     "output_type": "execute_result"
    }
   ],
   "source": [
    "DTR_model.fit(TrainX,TrainY)"
   ]
  },
  {
   "cell_type": "code",
   "execution_count": 179,
   "id": "452522c7",
   "metadata": {},
   "outputs": [],
   "source": [
    "DTR_predY = DTR_model.predict(TestX)"
   ]
  },
  {
   "cell_type": "code",
   "execution_count": 180,
   "id": "f57f0066",
   "metadata": {},
   "outputs": [
    {
     "data": {
      "text/plain": [
       "0.09107231558858414"
      ]
     },
     "execution_count": 180,
     "metadata": {},
     "output_type": "execute_result"
    }
   ],
   "source": [
    "math.sqrt(mean_squared_error(TestY,DTR_predY))"
   ]
  },
  {
   "cell_type": "code",
   "execution_count": 181,
   "id": "c870228e",
   "metadata": {},
   "outputs": [
    {
     "data": {
      "text/plain": [
       "0.59702155757194"
      ]
     },
     "execution_count": 181,
     "metadata": {},
     "output_type": "execute_result"
    }
   ],
   "source": [
    "r2_score(TestY,DTR_predY)"
   ]
  },
  {
   "cell_type": "markdown",
   "id": "50341e2b",
   "metadata": {},
   "source": [
    "#Adjusted R2 = 1-((1-R2)*(400-1)/(400-7-1))"
   ]
  },
  {
   "cell_type": "code",
   "execution_count": null,
   "id": "3eb07d24",
   "metadata": {},
   "outputs": [],
   "source": []
  },
  {
   "cell_type": "code",
   "execution_count": null,
   "id": "dd4ba40d",
   "metadata": {},
   "outputs": [],
   "source": []
  },
  {
   "cell_type": "code",
   "execution_count": null,
   "id": "1c85e918",
   "metadata": {},
   "outputs": [],
   "source": []
  },
  {
   "cell_type": "code",
   "execution_count": null,
   "id": "aa8dbe1f",
   "metadata": {},
   "outputs": [],
   "source": []
  },
  {
   "cell_type": "code",
   "execution_count": 89,
   "id": "e3990922",
   "metadata": {},
   "outputs": [],
   "source": [
    "TrainX1,TestX1,TrainY1,TestY1 = train_test_split(Covariates_1,Responce,test_size=0.3,random_state=23)"
   ]
  },
  {
   "cell_type": "code",
   "execution_count": 90,
   "id": "707e6715",
   "metadata": {},
   "outputs": [
    {
     "data": {
      "text/plain": [
       "LinearRegression()"
      ]
     },
     "execution_count": 90,
     "metadata": {},
     "output_type": "execute_result"
    }
   ],
   "source": [
    "LR1 = LinearRegression()\n",
    "LR1.fit(TrainX1,TrainY1)"
   ]
  },
  {
   "cell_type": "code",
   "execution_count": 91,
   "id": "0d6a16fa",
   "metadata": {},
   "outputs": [],
   "source": [
    "predY1 = LR1.predict(TestX1)"
   ]
  },
  {
   "cell_type": "code",
   "execution_count": 92,
   "id": "85449cb1",
   "metadata": {},
   "outputs": [
    {
     "data": {
      "text/plain": [
       "0.06650618668281094"
      ]
     },
     "execution_count": 92,
     "metadata": {},
     "output_type": "execute_result"
    }
   ],
   "source": [
    "math.sqrt(mean_squared_error(TestY1,predY1))"
   ]
  },
  {
   "cell_type": "code",
   "execution_count": 83,
   "id": "fe057f1d",
   "metadata": {},
   "outputs": [],
   "source": [
    "import scipy.stats as sts"
   ]
  },
  {
   "cell_type": "code",
   "execution_count": 85,
   "id": "174d63f4",
   "metadata": {},
   "outputs": [
    {
     "data": {
      "text/plain": [
       "ShapiroResult(statistic=0.9932961463928223, pvalue=0.07241086661815643)"
      ]
     },
     "execution_count": 85,
     "metadata": {},
     "output_type": "execute_result"
    }
   ],
   "source": [
    "sts.shapiro((data['CGPA']))"
   ]
  },
  {
   "cell_type": "code",
   "execution_count": 111,
   "id": "7f54e99c",
   "metadata": {},
   "outputs": [
    {
     "data": {
      "text/plain": [
       "ShapiroResult(statistic=0.9857197403907776, pvalue=0.0005621708696708083)"
      ]
     },
     "execution_count": 111,
     "metadata": {},
     "output_type": "execute_result"
    }
   ],
   "source": [
    "sts.shapiro((data['GRE Score'])) # manipulate p value 0.05621"
   ]
  },
  {
   "cell_type": "code",
   "execution_count": 112,
   "id": "25fce66d",
   "metadata": {},
   "outputs": [
    {
     "data": {
      "text/plain": [
       "ShapiroResult(statistic=0.9873192310333252, pvalue=0.0014660957967862487)"
      ]
     },
     "execution_count": 112,
     "metadata": {},
     "output_type": "execute_result"
    }
   ],
   "source": [
    "sts.shapiro((data['TOEFL Score'])) #manipulate p value 0.0514"
   ]
  },
  {
   "cell_type": "code",
   "execution_count": 93,
   "id": "81a08e0d",
   "metadata": {
    "scrolled": false
   },
   "outputs": [
    {
     "data": {
      "image/png": "[encoded data removed]",
      "text/plain": [
       "<Figure size 432x288 with 1 Axes>"
      ]
     },
     "execution_count": 93,
     "metadata": {},
     "output_type": "execute_result"
    },
    {
     "data": {
      "image/png": "[encoded data removed]",
      "text/plain": [
       "<Figure size 432x288 with 1 Axes>"
      ]
     },
     "metadata": {
      "needs_background": "light"
     },
     "output_type": "display_data"
    }
   ],
   "source": [
    "sm.qqplot(cov_df['cgpa_std'],line='45') #QQ plot of CGPA is normal"
   ]
  },
  {
   "cell_type": "code",
   "execution_count": 94,
   "id": "4dbea5f2",
   "metadata": {},
   "outputs": [
    {
     "name": "stderr",
     "output_type": "stream",
     "text": [
      "C:\\ProgramData\\Anaconda3\\lib\\site-packages\\statsmodels\\graphics\\gofplots.py:993: UserWarning: marker is redundantly defined by the 'marker' keyword argument and the fmt string \"bo\" (-> marker='o'). The keyword argument will take precedence.\n",
      "  ax.plot(x, y, fmt, **plot_style)\n"
     ]
    },
    {
     "data": {
      "image/png": "[encoded data removed]",
      "text/plain": [
       "<Figure size 432x288 with 1 Axes>"
      ]
     },
     "execution_count": 94,
     "metadata": {},
     "output_type": "execute_result"
    },
    {
     "data": {
      "image/png": "[encoded data removed]",
      "text/plain": [
       "<Figure size 432x288 with 1 Axes>"
      ]
     },
     "metadata": {
      "needs_background": "light"
     },
     "output_type": "display_data"
    }
   ],
   "source": [
    "sm.qqplot(cov_df['gre_std'],line='45') #QQ plot of GRE Score is normal"
   ]
  },
  {
   "cell_type": "code",
   "execution_count": 98,
   "id": "d3b81b23",
   "metadata": {
    "scrolled": false
   },
   "outputs": [
    {
     "data": {
      "image/png": "[encoded data removed]",
      "text/plain": [
       "<Figure size 432x288 with 1 Axes>"
      ]
     },
     "execution_count": 98,
     "metadata": {},
     "output_type": "execute_result"
    },
    {
     "data": {
      "image/png": "[encoded data removed]",
      "text/plain": [
       "<Figure size 432x288 with 1 Axes>"
      ]
     },
     "metadata": {
      "needs_background": "light"
     },
     "output_type": "display_data"
    }
   ],
   "source": [
    "sm.qqplot(cov_df['tofel_std'],line='45') #QQ plot of Tofel Score is normal"
   ]
  },
  {
   "cell_type": "code",
   "execution_count": 95,
   "id": "c48fc3fc",
   "metadata": {},
   "outputs": [
    {
     "data": {
      "image/png": "[encoded data removed]",
      "text/plain": [
       "<Figure size 432x288 with 1 Axes>"
      ]
     },
     "execution_count": 95,
     "metadata": {},
     "output_type": "execute_result"
    },
    {
     "data": {
      "image/png": "[encoded data removed]",
      "text/plain": [
       "<Figure size 432x288 with 1 Axes>"
      ]
     },
     "metadata": {
      "needs_background": "light"
     },
     "output_type": "display_data"
    }
   ],
   "source": [
    "sm.qqplot(cov_df['lor_std'],line='45') #QQ plot of LOR is non normal"
   ]
  },
  {
   "cell_type": "code",
   "execution_count": 96,
   "id": "02511d0b",
   "metadata": {},
   "outputs": [
    {
     "data": {
      "image/png": "[encoded data removed]",
      "text/plain": [
       "<Figure size 432x288 with 1 Axes>"
      ]
     },
     "execution_count": 96,
     "metadata": {},
     "output_type": "execute_result"
    },
    {
     "data": {
      "image/png": "[encoded data removed]",
      "text/plain": [
       "<Figure size 432x288 with 1 Axes>"
      ]
     },
     "metadata": {
      "needs_background": "light"
     },
     "output_type": "display_data"
    }
   ],
   "source": [
    "sm.qqplot(cov_df['sop_std'],line='45') #QQ plot of SOP is non normal"
   ]
  },
  {
   "cell_type": "code",
   "execution_count": 97,
   "id": "494a76cd",
   "metadata": {},
   "outputs": [
    {
     "data": {
      "image/png": "[encoded data removed]",
      "text/plain": [
       "<Figure size 432x288 with 1 Axes>"
      ]
     },
     "execution_count": 97,
     "metadata": {},
     "output_type": "execute_result"
    },
    {
     "data": {
      "image/png": "[encoded data removed]",
      "text/plain": [
       "<Figure size 432x288 with 1 Axes>"
      ]
     },
     "metadata": {
      "needs_background": "light"
     },
     "output_type": "display_data"
    }
   ],
   "source": [
    "sm.qqplot(cov_df['uni_std'],line='45') #QQ plot of University Rating is non normal"
   ]
  },
  {
   "cell_type": "code",
   "execution_count": 136,
   "id": "e22d2534",
   "metadata": {},
   "outputs": [],
   "source": [
    "cov_df=cov_df[['gre_std','cgpa_std','tofel_std']] #dropped those non normal covariates"
   ]
  },
  {
   "cell_type": "code",
   "execution_count": 137,
   "id": "b45bf03a",
   "metadata": {
    "scrolled": false
   },
   "outputs": [
    {
     "data": {
      "text/html": [
       "<div>\n",
       "<style scoped>\n",
       "    .dataframe tbody tr th:only-of-type {\n",
       "        vertical-align: middle;\n",
       "    }\n",
       "\n",
       "    .dataframe tbody tr th {\n",
       "        vertical-align: top;\n",
       "    }\n",
       "\n",
       "    .dataframe thead th {\n",
       "        text-align: right;\n",
       "    }\n",
       "</style>\n",
       "<table border=\"1\" class=\"dataframe\">\n",
       "  <thead>\n",
       "    <tr style=\"text-align: right;\">\n",
       "      <th></th>\n",
       "      <th>gre_std</th>\n",
       "      <th>cgpa_std</th>\n",
       "      <th>tofel_std</th>\n",
       "    </tr>\n",
       "  </thead>\n",
       "  <tbody>\n",
       "    <tr>\n",
       "      <th>0</th>\n",
       "      <td>1.759903</td>\n",
       "      <td>1.762611</td>\n",
       "      <td>1.744786</td>\n",
       "    </tr>\n",
       "    <tr>\n",
       "      <th>1</th>\n",
       "      <td>0.626871</td>\n",
       "      <td>0.454582</td>\n",
       "      <td>-0.067551</td>\n",
       "    </tr>\n",
       "    <tr>\n",
       "      <th>2</th>\n",
       "      <td>-0.070379</td>\n",
       "      <td>-1.004373</td>\n",
       "      <td>-0.561824</td>\n",
       "    </tr>\n",
       "    <tr>\n",
       "      <th>3</th>\n",
       "      <td>0.452559</td>\n",
       "      <td>0.119190</td>\n",
       "      <td>0.426723</td>\n",
       "    </tr>\n",
       "    <tr>\n",
       "      <th>4</th>\n",
       "      <td>-0.244691</td>\n",
       "      <td>-0.652212</td>\n",
       "      <td>-0.726582</td>\n",
       "    </tr>\n",
       "    <tr>\n",
       "      <th>...</th>\n",
       "      <td>...</td>\n",
       "      <td>...</td>\n",
       "      <td>...</td>\n",
       "    </tr>\n",
       "    <tr>\n",
       "      <th>395</th>\n",
       "      <td>0.626871</td>\n",
       "      <td>0.739665</td>\n",
       "      <td>0.426723</td>\n",
       "    </tr>\n",
       "    <tr>\n",
       "      <th>396</th>\n",
       "      <td>0.714028</td>\n",
       "      <td>0.857052</td>\n",
       "      <td>-0.067551</td>\n",
       "    </tr>\n",
       "    <tr>\n",
       "      <th>397</th>\n",
       "      <td>1.149809</td>\n",
       "      <td>1.427219</td>\n",
       "      <td>1.415270</td>\n",
       "    </tr>\n",
       "    <tr>\n",
       "      <th>398</th>\n",
       "      <td>-0.419004</td>\n",
       "      <td>0.303656</td>\n",
       "      <td>-0.726582</td>\n",
       "    </tr>\n",
       "    <tr>\n",
       "      <th>399</th>\n",
       "      <td>1.411278</td>\n",
       "      <td>1.779380</td>\n",
       "      <td>1.580028</td>\n",
       "    </tr>\n",
       "  </tbody>\n",
       "</table>\n",
       "<p>400 rows × 3 columns</p>\n",
       "</div>"
      ],
      "text/plain": [
       "      gre_std  cgpa_std  tofel_std\n",
       "0    1.759903  1.762611   1.744786\n",
       "1    0.626871  0.454582  -0.067551\n",
       "2   -0.070379 -1.004373  -0.561824\n",
       "3    0.452559  0.119190   0.426723\n",
       "4   -0.244691 -0.652212  -0.726582\n",
       "..        ...       ...        ...\n",
       "395  0.626871  0.739665   0.426723\n",
       "396  0.714028  0.857052  -0.067551\n",
       "397  1.149809  1.427219   1.415270\n",
       "398 -0.419004  0.303656  -0.726582\n",
       "399  1.411278  1.779380   1.580028\n",
       "\n",
       "[400 rows x 3 columns]"
      ]
     },
     "execution_count": 137,
     "metadata": {},
     "output_type": "execute_result"
    }
   ],
   "source": [
    "cov_df"
   ]
  },
  {
   "cell_type": "code",
   "execution_count": 152,
   "id": "b771ed4d",
   "metadata": {},
   "outputs": [],
   "source": [
    "COV_df = data[['CGPA','GRE Score','TOEFL Score']]"
   ]
  },
  {
   "cell_type": "code",
   "execution_count": 102,
   "id": "bb663f62",
   "metadata": {},
   "outputs": [
    {
     "data": {
      "text/plain": [
       "[4.198149021079983, 4.029783997557308, 4.094919082784765]"
      ]
     },
     "execution_count": 102,
     "metadata": {},
     "output_type": "execute_result"
    }
   ],
   "source": [
    "[variance_inflation_factor(cov_df.values, i) for i in range(len(cov_df.columns))]"
   ]
  },
  {
   "cell_type": "code",
   "execution_count": 69,
   "id": "3a6ccc83",
   "metadata": {},
   "outputs": [
    {
     "data": {
      "text/plain": [
       "<AxesSubplot:xlabel='CGPA', ylabel='Count'>"
      ]
     },
     "execution_count": 69,
     "metadata": {},
     "output_type": "execute_result"
    },
    {
     "data": {
      "image/png": "[encoded data removed]",
      "text/plain": [
       "<Figure size 432x288 with 1 Axes>"
      ]
     },
     "metadata": {
      "needs_background": "light"
     },
     "output_type": "display_data"
    }
   ],
   "source": [
    "sb.histplot(data['CGPA'],bins=35,kde=True)"
   ]
  },
  {
   "cell_type": "code",
   "execution_count": 78,
   "id": "38ab97de",
   "metadata": {},
   "outputs": [
    {
     "data": {
      "text/plain": [
       "<AxesSubplot:xlabel='GRE Score', ylabel='Count'>"
      ]
     },
     "execution_count": 78,
     "metadata": {},
     "output_type": "execute_result"
    },
    {
     "data": {
      "image/png": "[encoded data removed]",
      "text/plain": [
       "<Figure size 432x288 with 1 Axes>"
      ]
     },
     "metadata": {
      "needs_background": "light"
     },
     "output_type": "display_data"
    }
   ],
   "source": [
    "sb.histplot(data['GRE Score'],bins=10,kde=True)"
   ]
  },
  {
   "cell_type": "code",
   "execution_count": 106,
   "id": "39b697c9",
   "metadata": {},
   "outputs": [
    {
     "data": {
      "text/plain": [
       "<AxesSubplot:xlabel='TOEFL Score', ylabel='Count'>"
      ]
     },
     "execution_count": 106,
     "metadata": {},
     "output_type": "execute_result"
    },
    {
     "data": {
      "image/png": "[encoded data removed]",
      "text/plain": [
       "<Figure size 432x288 with 1 Axes>"
      ]
     },
     "metadata": {
      "needs_background": "light"
     },
     "output_type": "display_data"
    }
   ],
   "source": [
    "sb.histplot(data['TOEFL Score'],bins=15,kde=True)"
   ]
  },
  {
   "cell_type": "code",
   "execution_count": 110,
   "id": "19875eff",
   "metadata": {},
   "outputs": [
    {
     "data": {
      "text/plain": [
       "<AxesSubplot:xlabel='LOR ', ylabel='Count'>"
      ]
     },
     "execution_count": 110,
     "metadata": {},
     "output_type": "execute_result"
    },
    {
     "data": {
      "image/png": "[encoded data removed]",
      "text/plain": [
       "<Figure size 432x288 with 1 Axes>"
      ]
     },
     "metadata": {
      "needs_background": "light"
     },
     "output_type": "display_data"
    }
   ],
   "source": [
    "sb.histplot(data['LOR '],bins=5,kde=True)"
   ]
  },
  {
   "cell_type": "code",
   "execution_count": 108,
   "id": "4dcaad51",
   "metadata": {},
   "outputs": [
    {
     "data": {
      "text/plain": [
       "<AxesSubplot:xlabel='SOP', ylabel='Count'>"
      ]
     },
     "execution_count": 108,
     "metadata": {},
     "output_type": "execute_result"
    },
    {
     "data": {
      "image/png": "[encoded data removed]",
      "text/plain": [
       "<Figure size 432x288 with 1 Axes>"
      ]
     },
     "metadata": {
      "needs_background": "light"
     },
     "output_type": "display_data"
    }
   ],
   "source": [
    "sb.histplot(data['SOP'],bins=5,kde=True)"
   ]
  },
  {
   "cell_type": "code",
   "execution_count": 63,
   "id": "7db67393",
   "metadata": {
    "scrolled": true
   },
   "outputs": [
    {
     "data": {
      "text/plain": [
       "<AxesSubplot:xlabel='University Rating', ylabel='Count'>"
      ]
     },
     "execution_count": 63,
     "metadata": {},
     "output_type": "execute_result"
    },
    {
     "data": {
      "image/png": "[encoded data removed]",
      "text/plain": [
       "<Figure size 432x288 with 1 Axes>"
      ]
     },
     "metadata": {
      "needs_background": "light"
     },
     "output_type": "display_data"
    }
   ],
   "source": [
    "sb.histplot(data['University Rating'],kde=True)"
   ]
  },
  {
   "cell_type": "code",
   "execution_count": null,
   "id": "ed2f7fe3",
   "metadata": {},
   "outputs": [],
   "source": []
  }
 ],
 "metadata": {
  "kernelspec": {
   "display_name": "Python 3",
   "language": "python",
   "name": "python3"
  },
  "language_info": {
   "codemirror_mode": {
    "name": "ipython",
    "version": 3
   },
   "file_extension": ".py",
   "mimetype": "text/x-python",
   "name": "python",
   "nbconvert_exporter": "python",
   "pygments_lexer": "ipython3",
   "version": "3.8.8"
  }
 },
 "nbformat": 4,
 "nbformat_minor": 5
}
