{
 "cells": [
  {
   "cell_type": "code",
   "execution_count": 1,
   "id": "8d6156f9",
   "metadata": {},
   "outputs": [],
   "source": [
    "import pandas as pd\n",
    "import numpy as np"
   ]
  },
  {
   "cell_type": "code",
   "execution_count": 2,
   "id": "53d430b1",
   "metadata": {},
   "outputs": [
    {
     "data": {
      "text/html": [
       "<div>\n",
       "<style scoped>\n",
       "    .dataframe tbody tr th:only-of-type {\n",
       "        vertical-align: middle;\n",
       "    }\n",
       "\n",
       "    .dataframe tbody tr th {\n",
       "        vertical-align: top;\n",
       "    }\n",
       "\n",
       "    .dataframe thead th {\n",
       "        text-align: right;\n",
       "    }\n",
       "</style>\n",
       "<table border=\"1\" class=\"dataframe\">\n",
       "  <thead>\n",
       "    <tr style=\"text-align: right;\">\n",
       "      <th></th>\n",
       "      <th>Serial No.</th>\n",
       "      <th>GRE Score</th>\n",
       "      <th>TOEFL Score</th>\n",
       "      <th>University Rating</th>\n",
       "      <th>SOP</th>\n",
       "      <th>LOR</th>\n",
       "      <th>CGPA</th>\n",
       "      <th>Research</th>\n",
       "      <th>Admission Status</th>\n",
       "    </tr>\n",
       "  </thead>\n",
       "  <tbody>\n",
       "    <tr>\n",
       "      <th>0</th>\n",
       "      <td>1</td>\n",
       "      <td>337</td>\n",
       "      <td>118</td>\n",
       "      <td>4</td>\n",
       "      <td>4.5</td>\n",
       "      <td>4.5</td>\n",
       "      <td>9.65</td>\n",
       "      <td>1</td>\n",
       "      <td>1</td>\n",
       "    </tr>\n",
       "    <tr>\n",
       "      <th>1</th>\n",
       "      <td>2</td>\n",
       "      <td>324</td>\n",
       "      <td>107</td>\n",
       "      <td>4</td>\n",
       "      <td>4.0</td>\n",
       "      <td>4.5</td>\n",
       "      <td>8.87</td>\n",
       "      <td>1</td>\n",
       "      <td>1</td>\n",
       "    </tr>\n",
       "    <tr>\n",
       "      <th>2</th>\n",
       "      <td>3</td>\n",
       "      <td>316</td>\n",
       "      <td>104</td>\n",
       "      <td>3</td>\n",
       "      <td>3.0</td>\n",
       "      <td>3.5</td>\n",
       "      <td>8.00</td>\n",
       "      <td>1</td>\n",
       "      <td>0</td>\n",
       "    </tr>\n",
       "    <tr>\n",
       "      <th>3</th>\n",
       "      <td>4</td>\n",
       "      <td>322</td>\n",
       "      <td>110</td>\n",
       "      <td>3</td>\n",
       "      <td>3.5</td>\n",
       "      <td>2.5</td>\n",
       "      <td>8.67</td>\n",
       "      <td>1</td>\n",
       "      <td>1</td>\n",
       "    </tr>\n",
       "    <tr>\n",
       "      <th>4</th>\n",
       "      <td>5</td>\n",
       "      <td>314</td>\n",
       "      <td>103</td>\n",
       "      <td>2</td>\n",
       "      <td>2.0</td>\n",
       "      <td>3.0</td>\n",
       "      <td>8.21</td>\n",
       "      <td>0</td>\n",
       "      <td>0</td>\n",
       "    </tr>\n",
       "    <tr>\n",
       "      <th>...</th>\n",
       "      <td>...</td>\n",
       "      <td>...</td>\n",
       "      <td>...</td>\n",
       "      <td>...</td>\n",
       "      <td>...</td>\n",
       "      <td>...</td>\n",
       "      <td>...</td>\n",
       "      <td>...</td>\n",
       "      <td>...</td>\n",
       "    </tr>\n",
       "    <tr>\n",
       "      <th>395</th>\n",
       "      <td>396</td>\n",
       "      <td>324</td>\n",
       "      <td>110</td>\n",
       "      <td>3</td>\n",
       "      <td>3.5</td>\n",
       "      <td>3.5</td>\n",
       "      <td>9.04</td>\n",
       "      <td>1</td>\n",
       "      <td>1</td>\n",
       "    </tr>\n",
       "    <tr>\n",
       "      <th>396</th>\n",
       "      <td>397</td>\n",
       "      <td>325</td>\n",
       "      <td>107</td>\n",
       "      <td>3</td>\n",
       "      <td>3.0</td>\n",
       "      <td>3.5</td>\n",
       "      <td>9.11</td>\n",
       "      <td>1</td>\n",
       "      <td>1</td>\n",
       "    </tr>\n",
       "    <tr>\n",
       "      <th>397</th>\n",
       "      <td>398</td>\n",
       "      <td>330</td>\n",
       "      <td>116</td>\n",
       "      <td>4</td>\n",
       "      <td>5.0</td>\n",
       "      <td>4.5</td>\n",
       "      <td>9.45</td>\n",
       "      <td>1</td>\n",
       "      <td>1</td>\n",
       "    </tr>\n",
       "    <tr>\n",
       "      <th>398</th>\n",
       "      <td>399</td>\n",
       "      <td>312</td>\n",
       "      <td>103</td>\n",
       "      <td>3</td>\n",
       "      <td>3.5</td>\n",
       "      <td>4.0</td>\n",
       "      <td>8.78</td>\n",
       "      <td>0</td>\n",
       "      <td>0</td>\n",
       "    </tr>\n",
       "    <tr>\n",
       "      <th>399</th>\n",
       "      <td>400</td>\n",
       "      <td>333</td>\n",
       "      <td>117</td>\n",
       "      <td>4</td>\n",
       "      <td>5.0</td>\n",
       "      <td>4.0</td>\n",
       "      <td>9.66</td>\n",
       "      <td>1</td>\n",
       "      <td>1</td>\n",
       "    </tr>\n",
       "  </tbody>\n",
       "</table>\n",
       "<p>400 rows × 9 columns</p>\n",
       "</div>"
      ],
      "text/plain": [
       "     Serial No.  GRE Score  TOEFL Score  University Rating  SOP  LOR   CGPA  \\\n",
       "0             1        337          118                  4  4.5   4.5  9.65   \n",
       "1             2        324          107                  4  4.0   4.5  8.87   \n",
       "2             3        316          104                  3  3.0   3.5  8.00   \n",
       "3             4        322          110                  3  3.5   2.5  8.67   \n",
       "4             5        314          103                  2  2.0   3.0  8.21   \n",
       "..          ...        ...          ...                ...  ...   ...   ...   \n",
       "395         396        324          110                  3  3.5   3.5  9.04   \n",
       "396         397        325          107                  3  3.0   3.5  9.11   \n",
       "397         398        330          116                  4  5.0   4.5  9.45   \n",
       "398         399        312          103                  3  3.5   4.0  8.78   \n",
       "399         400        333          117                  4  5.0   4.0  9.66   \n",
       "\n",
       "     Research  Admission Status  \n",
       "0           1                 1  \n",
       "1           1                 1  \n",
       "2           1                 0  \n",
       "3           1                 1  \n",
       "4           0                 0  \n",
       "..        ...               ...  \n",
       "395         1                 1  \n",
       "396         1                 1  \n",
       "397         1                 1  \n",
       "398         0                 0  \n",
       "399         1                 1  \n",
       "\n",
       "[400 rows x 9 columns]"
      ]
     },
     "execution_count": 2,
     "metadata": {},
     "output_type": "execute_result"
    }
   ],
   "source": [
    "data = pd.read_csv(\"Admission_Predict_Binary.csv\")\n",
    "data"
   ]
  },
  {
   "cell_type": "code",
   "execution_count": 3,
   "id": "156f0486",
   "metadata": {},
   "outputs": [
    {
     "data": {
      "text/plain": [
       "Serial No.           0\n",
       "GRE Score            0\n",
       "TOEFL Score          0\n",
       "University Rating    0\n",
       "SOP                  0\n",
       "LOR                  0\n",
       "CGPA                 0\n",
       "Research             0\n",
       "Admission Status     0\n",
       "dtype: int64"
      ]
     },
     "execution_count": 3,
     "metadata": {},
     "output_type": "execute_result"
    }
   ],
   "source": [
    "data.isna().sum()"
   ]
  },
  {
   "cell_type": "code",
   "execution_count": 4,
   "id": "fb896371",
   "metadata": {},
   "outputs": [
    {
     "data": {
      "text/html": [
       "<div>\n",
       "<style scoped>\n",
       "    .dataframe tbody tr th:only-of-type {\n",
       "        vertical-align: middle;\n",
       "    }\n",
       "\n",
       "    .dataframe tbody tr th {\n",
       "        vertical-align: top;\n",
       "    }\n",
       "\n",
       "    .dataframe thead th {\n",
       "        text-align: right;\n",
       "    }\n",
       "</style>\n",
       "<table border=\"1\" class=\"dataframe\">\n",
       "  <thead>\n",
       "    <tr style=\"text-align: right;\">\n",
       "      <th></th>\n",
       "      <th>Serial No.</th>\n",
       "      <th>GRE Score</th>\n",
       "      <th>TOEFL Score</th>\n",
       "      <th>University Rating</th>\n",
       "      <th>SOP</th>\n",
       "      <th>LOR</th>\n",
       "      <th>CGPA</th>\n",
       "      <th>Research</th>\n",
       "      <th>Admission Status</th>\n",
       "    </tr>\n",
       "  </thead>\n",
       "  <tbody>\n",
       "    <tr>\n",
       "      <th>count</th>\n",
       "      <td>400.000000</td>\n",
       "      <td>400.000000</td>\n",
       "      <td>400.000000</td>\n",
       "      <td>400.000000</td>\n",
       "      <td>400.000000</td>\n",
       "      <td>400.000000</td>\n",
       "      <td>400.000000</td>\n",
       "      <td>400.000000</td>\n",
       "      <td>400.000000</td>\n",
       "    </tr>\n",
       "    <tr>\n",
       "      <th>mean</th>\n",
       "      <td>200.500000</td>\n",
       "      <td>316.807500</td>\n",
       "      <td>107.410000</td>\n",
       "      <td>3.087500</td>\n",
       "      <td>3.400000</td>\n",
       "      <td>3.452500</td>\n",
       "      <td>8.598925</td>\n",
       "      <td>0.547500</td>\n",
       "      <td>0.450000</td>\n",
       "    </tr>\n",
       "    <tr>\n",
       "      <th>std</th>\n",
       "      <td>115.614301</td>\n",
       "      <td>11.473646</td>\n",
       "      <td>6.069514</td>\n",
       "      <td>1.143728</td>\n",
       "      <td>1.006869</td>\n",
       "      <td>0.898478</td>\n",
       "      <td>0.596317</td>\n",
       "      <td>0.498362</td>\n",
       "      <td>0.498117</td>\n",
       "    </tr>\n",
       "    <tr>\n",
       "      <th>min</th>\n",
       "      <td>1.000000</td>\n",
       "      <td>290.000000</td>\n",
       "      <td>92.000000</td>\n",
       "      <td>1.000000</td>\n",
       "      <td>1.000000</td>\n",
       "      <td>1.000000</td>\n",
       "      <td>6.800000</td>\n",
       "      <td>0.000000</td>\n",
       "      <td>0.000000</td>\n",
       "    </tr>\n",
       "    <tr>\n",
       "      <th>25%</th>\n",
       "      <td>100.750000</td>\n",
       "      <td>308.000000</td>\n",
       "      <td>103.000000</td>\n",
       "      <td>2.000000</td>\n",
       "      <td>2.500000</td>\n",
       "      <td>3.000000</td>\n",
       "      <td>8.170000</td>\n",
       "      <td>0.000000</td>\n",
       "      <td>0.000000</td>\n",
       "    </tr>\n",
       "    <tr>\n",
       "      <th>50%</th>\n",
       "      <td>200.500000</td>\n",
       "      <td>317.000000</td>\n",
       "      <td>107.000000</td>\n",
       "      <td>3.000000</td>\n",
       "      <td>3.500000</td>\n",
       "      <td>3.500000</td>\n",
       "      <td>8.610000</td>\n",
       "      <td>1.000000</td>\n",
       "      <td>0.000000</td>\n",
       "    </tr>\n",
       "    <tr>\n",
       "      <th>75%</th>\n",
       "      <td>300.250000</td>\n",
       "      <td>325.000000</td>\n",
       "      <td>112.000000</td>\n",
       "      <td>4.000000</td>\n",
       "      <td>4.000000</td>\n",
       "      <td>4.000000</td>\n",
       "      <td>9.062500</td>\n",
       "      <td>1.000000</td>\n",
       "      <td>1.000000</td>\n",
       "    </tr>\n",
       "    <tr>\n",
       "      <th>max</th>\n",
       "      <td>400.000000</td>\n",
       "      <td>340.000000</td>\n",
       "      <td>120.000000</td>\n",
       "      <td>5.000000</td>\n",
       "      <td>5.000000</td>\n",
       "      <td>5.000000</td>\n",
       "      <td>9.920000</td>\n",
       "      <td>1.000000</td>\n",
       "      <td>1.000000</td>\n",
       "    </tr>\n",
       "  </tbody>\n",
       "</table>\n",
       "</div>"
      ],
      "text/plain": [
       "       Serial No.   GRE Score  TOEFL Score  University Rating         SOP  \\\n",
       "count  400.000000  400.000000   400.000000         400.000000  400.000000   \n",
       "mean   200.500000  316.807500   107.410000           3.087500    3.400000   \n",
       "std    115.614301   11.473646     6.069514           1.143728    1.006869   \n",
       "min      1.000000  290.000000    92.000000           1.000000    1.000000   \n",
       "25%    100.750000  308.000000   103.000000           2.000000    2.500000   \n",
       "50%    200.500000  317.000000   107.000000           3.000000    3.500000   \n",
       "75%    300.250000  325.000000   112.000000           4.000000    4.000000   \n",
       "max    400.000000  340.000000   120.000000           5.000000    5.000000   \n",
       "\n",
       "             LOR         CGPA    Research  Admission Status  \n",
       "count  400.000000  400.000000  400.000000        400.000000  \n",
       "mean     3.452500    8.598925    0.547500          0.450000  \n",
       "std      0.898478    0.596317    0.498362          0.498117  \n",
       "min      1.000000    6.800000    0.000000          0.000000  \n",
       "25%      3.000000    8.170000    0.000000          0.000000  \n",
       "50%      3.500000    8.610000    1.000000          0.000000  \n",
       "75%      4.000000    9.062500    1.000000          1.000000  \n",
       "max      5.000000    9.920000    1.000000          1.000000  "
      ]
     },
     "execution_count": 4,
     "metadata": {},
     "output_type": "execute_result"
    }
   ],
   "source": [
    "data.describe(include='all')"
   ]
  },
  {
   "cell_type": "code",
   "execution_count": 5,
   "id": "241f6ac2",
   "metadata": {},
   "outputs": [
    {
     "data": {
      "text/plain": [
       "0    220\n",
       "1    180\n",
       "Name: Admission Status, dtype: int64"
      ]
     },
     "execution_count": 5,
     "metadata": {},
     "output_type": "execute_result"
    }
   ],
   "source": [
    "data['Admission Status'].value_counts()"
   ]
  },
  {
   "cell_type": "code",
   "execution_count": 226,
   "id": "15772ba3",
   "metadata": {},
   "outputs": [],
   "source": [
    "import matplotlib.pyplot as plt\n",
    "import seaborn as sb"
   ]
  },
  {
   "cell_type": "code",
   "execution_count": 174,
   "id": "3436278b",
   "metadata": {},
   "outputs": [
    {
     "data": {
      "text/plain": [
       "Text(0.5, 1.0, 'Admission Status')"
      ]
     },
     "execution_count": 174,
     "metadata": {},
     "output_type": "execute_result"
    },
    {
     "data": {
      "image/png": "[encoded data removed]",
      "text/plain": [
       "<Figure size 432x288 with 1 Axes>"
      ]
     },
     "metadata": {
      "needs_background": "light"
     },
     "output_type": "display_data"
    }
   ],
   "source": [
    "sb.barplot(y=data['Admission Status'].value_counts(),x=['Yes','No'])\n",
    "plt.title('Admission Status')"
   ]
  },
  {
   "cell_type": "code",
   "execution_count": 175,
   "id": "669d1c3b",
   "metadata": {},
   "outputs": [
    {
     "data": {
      "text/plain": [
       "3    133\n",
       "2    107\n",
       "4     74\n",
       "5     60\n",
       "1     26\n",
       "Name: University Rating, dtype: int64"
      ]
     },
     "execution_count": 175,
     "metadata": {},
     "output_type": "execute_result"
    }
   ],
   "source": [
    "data['University Rating'].value_counts()"
   ]
  },
  {
   "cell_type": "code",
   "execution_count": 26,
   "id": "d451dd5d",
   "metadata": {},
   "outputs": [
    {
     "data": {
      "text/plain": [
       "Text(0.5, 1.0, 'University Rating')"
      ]
     },
     "execution_count": 26,
     "metadata": {},
     "output_type": "execute_result"
    },
    {
     "data": {
      "image/png": "[encoded data removed]",
      "text/plain": [
       "<Figure size 432x288 with 1 Axes>"
      ]
     },
     "metadata": {
      "needs_background": "light"
     },
     "output_type": "display_data"
    }
   ],
   "source": [
    "sb.barplot(y=[26,107,133,74,60],x=[1,2,3,4,5])\n",
    "plt.title('University Rating')"
   ]
  },
  {
   "cell_type": "code",
   "execution_count": 246,
   "id": "1140bf26",
   "metadata": {},
   "outputs": [
    {
     "data": {
      "text/plain": [
       "<matplotlib.legend.Legend at 0x15feceb96d0>"
      ]
     },
     "execution_count": 246,
     "metadata": {},
     "output_type": "execute_result"
    },
    {
     "data": {
      "image/png": "[encoded data removed]",
      "text/plain": [
       "<Figure size 1440x648 with 1 Axes>"
      ]
     },
     "metadata": {},
     "output_type": "display_data"
    }
   ],
   "source": [
    "plt.figure(figsize=(20,9))\n",
    "plt.pie([26,107,133,74,60],startangle=180,autopct='%.2f%%')\n",
    "plt.legend([1,2,3,4,5],title = 'University Rating',loc='upper right')"
   ]
  },
  {
   "cell_type": "code",
   "execution_count": 34,
   "id": "30fc3cae",
   "metadata": {},
   "outputs": [
    {
     "data": {
      "text/plain": [
       "3.5    70\n",
       "4.0    70\n",
       "3.0    64\n",
       "4.5    53\n",
       "2.5    47\n",
       "5.0    37\n",
       "2.0    33\n",
       "1.5    20\n",
       "1.0     6\n",
       "Name: SOP, dtype: int64"
      ]
     },
     "execution_count": 34,
     "metadata": {},
     "output_type": "execute_result"
    }
   ],
   "source": [
    "data['SOP'].value_counts()"
   ]
  },
  {
   "cell_type": "code",
   "execution_count": 35,
   "id": "de6dea4d",
   "metadata": {},
   "outputs": [
    {
     "data": {
      "text/plain": [
       "3.0    85\n",
       "4.0    77\n",
       "3.5    73\n",
       "4.5    45\n",
       "2.5    39\n",
       "2.0    38\n",
       "5.0    35\n",
       "1.5     7\n",
       "1.0     1\n",
       "Name: LOR , dtype: int64"
      ]
     },
     "execution_count": 35,
     "metadata": {},
     "output_type": "execute_result"
    }
   ],
   "source": [
    "data['LOR '].value_counts()"
   ]
  },
  {
   "cell_type": "code",
   "execution_count": 50,
   "id": "7ea7b783",
   "metadata": {},
   "outputs": [
    {
     "data": {
      "text/plain": [
       "Text(0.5, 1.0, 'Letter of Recomendation')"
      ]
     },
     "execution_count": 50,
     "metadata": {},
     "output_type": "execute_result"
    },
    {
     "data": {
      "image/png": "[encoded data removed]",
      "text/plain": [
       "<Figure size 576x432 with 1 Axes>"
      ]
     },
     "metadata": {
      "needs_background": "light"
     },
     "output_type": "display_data"
    }
   ],
   "source": [
    "plt.figure(figsize=(8,6))\n",
    "sb.barplot(y=[1,7,38,39,85,73,77,45,35],x=[1.0,1.5,2.0,2.5,3.0,3.5,4.0,4.5,5.0])\n",
    "plt.title('Letter of Recomendation')"
   ]
  },
  {
   "cell_type": "code",
   "execution_count": 245,
   "id": "49011d23",
   "metadata": {},
   "outputs": [
    {
     "data": {
      "text/plain": [
       "<matplotlib.legend.Legend at 0x15fece54e20>"
      ]
     },
     "execution_count": 245,
     "metadata": {},
     "output_type": "execute_result"
    },
    {
     "data": {
      "image/png": "[encoded data removed]",
      "text/plain": [
       "<Figure size 1440x648 with 1 Axes>"
      ]
     },
     "metadata": {},
     "output_type": "display_data"
    }
   ],
   "source": [
    "plt.figure(figsize=(20,9))\n",
    "plt.pie([1,7,38,39,85,73,77,45,35],startangle=180,autopct='%.2f%%')\n",
    "plt.legend([1.0,1.5,2.0,2.5,3.0,3.5,4.0,4.5,5],title = 'Letter of Recomendation',loc='upper right')"
   ]
  },
  {
   "cell_type": "code",
   "execution_count": 42,
   "id": "48359225",
   "metadata": {},
   "outputs": [
    {
     "data": {
      "text/plain": [
       "3.5    70\n",
       "4.0    70\n",
       "3.0    64\n",
       "4.5    53\n",
       "2.5    47\n",
       "5.0    37\n",
       "2.0    33\n",
       "1.5    20\n",
       "1.0     6\n",
       "Name: SOP, dtype: int64"
      ]
     },
     "execution_count": 42,
     "metadata": {},
     "output_type": "execute_result"
    }
   ],
   "source": [
    "data['SOP'].value_counts()"
   ]
  },
  {
   "cell_type": "code",
   "execution_count": 51,
   "id": "cdd5c3d7",
   "metadata": {},
   "outputs": [
    {
     "data": {
      "text/plain": [
       "Text(0.5, 1.0, 'Statement of Purpose')"
      ]
     },
     "execution_count": 51,
     "metadata": {},
     "output_type": "execute_result"
    },
    {
     "data": {
      "image/png": "[encoded data removed]",
      "text/plain": [
       "<Figure size 432x288 with 1 Axes>"
      ]
     },
     "metadata": {
      "needs_background": "light"
     },
     "output_type": "display_data"
    }
   ],
   "source": [
    "sb.barplot(y=[6,20,33,47,64,70,70,53,37],x=[1.0,1.5,2.0,2.5,3.0,3.5,4.0,4.5,5.0])\n",
    "plt.title('Statement of Purpose')"
   ]
  },
  {
   "cell_type": "code",
   "execution_count": 52,
   "id": "3064ec59",
   "metadata": {},
   "outputs": [
    {
     "data": {
      "text/plain": [
       "Text(0.5, 1.0, 'CGPA')"
      ]
     },
     "execution_count": 52,
     "metadata": {},
     "output_type": "execute_result"
    },
    {
     "data": {
      "image/png": "[encoded data removed]",
      "text/plain": [
       "<Figure size 432x288 with 1 Axes>"
      ]
     },
     "metadata": {
      "needs_background": "light"
     },
     "output_type": "display_data"
    }
   ],
   "source": [
    "sb.histplot(data['CGPA'],bins=10)\n",
    "plt.title('CGPA')"
   ]
  },
  {
   "cell_type": "code",
   "execution_count": 54,
   "id": "4dc62db1",
   "metadata": {},
   "outputs": [
    {
     "data": {
      "text/plain": [
       "Text(0.5, 1.0, 'GRE Score')"
      ]
     },
     "execution_count": 54,
     "metadata": {},
     "output_type": "execute_result"
    },
    {
     "data": {
      "image/png": "[encoded data removed]",
      "text/plain": [
       "<Figure size 432x288 with 1 Axes>"
      ]
     },
     "metadata": {
      "needs_background": "light"
     },
     "output_type": "display_data"
    }
   ],
   "source": [
    "sb.histplot(data['GRE Score'],bins=10,color='purple')\n",
    "plt.title('GRE Score')"
   ]
  },
  {
   "cell_type": "code",
   "execution_count": 55,
   "id": "a56ee3a2",
   "metadata": {},
   "outputs": [
    {
     "data": {
      "text/plain": [
       "Text(0.5, 1.0, 'TOEFL Score')"
      ]
     },
     "execution_count": 55,
     "metadata": {},
     "output_type": "execute_result"
    },
    {
     "data": {
      "image/png": "[encoded data removed]",
      "text/plain": [
       "<Figure size 432x288 with 1 Axes>"
      ]
     },
     "metadata": {
      "needs_background": "light"
     },
     "output_type": "display_data"
    }
   ],
   "source": [
    "sb.histplot(data['TOEFL Score'],bins=10,color='green')\n",
    "plt.title('TOEFL Score')"
   ]
  },
  {
   "cell_type": "code",
   "execution_count": 176,
   "id": "dca5a162",
   "metadata": {
    "scrolled": true
   },
   "outputs": [
    {
     "data": {
      "text/plain": [
       "<AxesSubplot:xlabel='CGPA', ylabel='GRE Score'>"
      ]
     },
     "execution_count": 176,
     "metadata": {},
     "output_type": "execute_result"
    },
    {
     "data": {
      "image/png": "[encoded data removed]",
      "text/plain": [
       "<Figure size 432x288 with 1 Axes>"
      ]
     },
     "metadata": {
      "needs_background": "light"
     },
     "output_type": "display_data"
    }
   ],
   "source": [
    "sb.scatterplot(x='CGPA',y='GRE Score',data=data, hue='Admission Status')"
   ]
  },
  {
   "cell_type": "code",
   "execution_count": 177,
   "id": "3c46f199",
   "metadata": {
    "scrolled": true
   },
   "outputs": [
    {
     "data": {
      "text/plain": [
       "<AxesSubplot:xlabel='TOEFL Score', ylabel='GRE Score'>"
      ]
     },
     "execution_count": 177,
     "metadata": {},
     "output_type": "execute_result"
    },
    {
     "data": {
      "image/png": "[encoded data removed]",
      "text/plain": [
       "<Figure size 432x288 with 1 Axes>"
      ]
     },
     "metadata": {
      "needs_background": "light"
     },
     "output_type": "display_data"
    }
   ],
   "source": [
    "sb.scatterplot(x='TOEFL Score',y='GRE Score',data=data, hue='Admission Status')"
   ]
  },
  {
   "cell_type": "code",
   "execution_count": 178,
   "id": "07edb3e4",
   "metadata": {},
   "outputs": [
    {
     "data": {
      "text/plain": [
       "1    219\n",
       "0    181\n",
       "Name: Research, dtype: int64"
      ]
     },
     "execution_count": 178,
     "metadata": {},
     "output_type": "execute_result"
    }
   ],
   "source": [
    "data['Research'].value_counts()"
   ]
  },
  {
   "cell_type": "code",
   "execution_count": 65,
   "id": "f5a5aafc",
   "metadata": {},
   "outputs": [
    {
     "data": {
      "text/plain": [
       "Text(0.5, 1.0, 'Research Experties')"
      ]
     },
     "execution_count": 65,
     "metadata": {},
     "output_type": "execute_result"
    },
    {
     "data": {
      "image/png": "[encoded data removed]",
      "text/plain": [
       "<Figure size 432x288 with 1 Axes>"
      ]
     },
     "metadata": {
      "needs_background": "light"
     },
     "output_type": "display_data"
    }
   ],
   "source": [
    "sb.barplot(y=data['Research'].value_counts(),x=['Yes','No'])\n",
    "plt.title('Research Experties')"
   ]
  },
  {
   "cell_type": "code",
   "execution_count": 197,
   "id": "ed911bec",
   "metadata": {
    "scrolled": false
   },
   "outputs": [
    {
     "data": {
      "text/plain": [
       "Serial No.           0.016755\n",
       "GRE Score            0.686138\n",
       "TOEFL Score          0.672465\n",
       "University Rating    0.638983\n",
       "SOP                  0.612152\n",
       "LOR                  0.557481\n",
       "CGPA                 0.737307\n",
       "Research             0.519441\n",
       "Admission Status     1.000000\n",
       "Name: Admission Status, dtype: float64"
      ]
     },
     "execution_count": 197,
     "metadata": {},
     "output_type": "execute_result"
    }
   ],
   "source": [
    "data.corr()['Admission Status']"
   ]
  },
  {
   "cell_type": "code",
   "execution_count": 311,
   "id": "fa96164f",
   "metadata": {},
   "outputs": [
    {
     "data": {
      "text/plain": [
       "<AxesSubplot:>"
      ]
     },
     "execution_count": 311,
     "metadata": {},
     "output_type": "execute_result"
    },
    {
     "data": {
      "image/png": "[encoded data removed]",
      "text/plain": [
       "<Figure size 432x288 with 2 Axes>"
      ]
     },
     "metadata": {
      "needs_background": "light"
     },
     "output_type": "display_data"
    }
   ],
   "source": [
    "sb.heatmap(data.corr())"
   ]
  },
  {
   "cell_type": "code",
   "execution_count": 247,
   "id": "56aee728",
   "metadata": {},
   "outputs": [],
   "source": [
    "data=data.drop(['Serial No.'],axis=1)"
   ]
  },
  {
   "cell_type": "code",
   "execution_count": 6,
   "id": "975a682a",
   "metadata": {},
   "outputs": [],
   "source": [
    "from sklearn.model_selection import train_test_split"
   ]
  },
  {
   "cell_type": "code",
   "execution_count": 248,
   "id": "65958011",
   "metadata": {},
   "outputs": [],
   "source": [
    "X=data.drop(['Admission Status'],axis=1)\n",
    "Y=data['Admission Status']"
   ]
  },
  {
   "cell_type": "code",
   "execution_count": 167,
   "id": "abca6e57",
   "metadata": {},
   "outputs": [],
   "source": [
    "TX,tX,TY,tY = train_test_split(X,Y,test_size=0.25,random_state=17)"
   ]
  },
  {
   "cell_type": "code",
   "execution_count": 300,
   "id": "8f1e2661",
   "metadata": {},
   "outputs": [],
   "source": [
    "from sklearn.preprocessing import MinMaxScaler\n",
    "scalerX = MinMaxScaler(feature_range=(0, 10))"
   ]
  },
  {
   "cell_type": "code",
   "execution_count": 301,
   "id": "bb0f712a",
   "metadata": {},
   "outputs": [],
   "source": [
    "from sklearn.linear_model import LogisticRegression"
   ]
  },
  {
   "cell_type": "code",
   "execution_count": 302,
   "id": "b359b0e9",
   "metadata": {},
   "outputs": [],
   "source": [
    "TX = scalerX.fit_transform(TX[TX.columns])\n",
    "tX = scalerX.fit_transform(tX[tX.columns])"
   ]
  },
  {
   "cell_type": "markdown",
   "id": "41c564e0",
   "metadata": {},
   "source": [
    ">Logistic Regression"
   ]
  },
  {
   "cell_type": "code",
   "execution_count": 303,
   "id": "a89473b1",
   "metadata": {},
   "outputs": [
    {
     "data": {
      "text/plain": [
       "LogisticRegression(max_iter=500)"
      ]
     },
     "execution_count": 303,
     "metadata": {},
     "output_type": "execute_result"
    }
   ],
   "source": [
    "logi_model = LogisticRegression(max_iter=500)\n",
    "logi_model.fit(TX,TY)"
   ]
  },
  {
   "cell_type": "code",
   "execution_count": 304,
   "id": "3a28f4aa",
   "metadata": {},
   "outputs": [],
   "source": [
    "pY=logi_model.predict(tX)"
   ]
  },
  {
   "cell_type": "code",
   "execution_count": 305,
   "id": "31985cae",
   "metadata": {},
   "outputs": [],
   "source": [
    "from sklearn.metrics import confusion_matrix,accuracy_score,f1_score,roc_auc_score,precision_score,recall_score,roc_curve"
   ]
  },
  {
   "cell_type": "code",
   "execution_count": 269,
   "id": "b049942a",
   "metadata": {},
   "outputs": [
    {
     "data": {
      "text/plain": [
       "array([[43, 12],\n",
       "       [ 2, 43]], dtype=int64)"
      ]
     },
     "execution_count": 269,
     "metadata": {},
     "output_type": "execute_result"
    }
   ],
   "source": [
    "confusion_matrix(tY,pY)"
   ]
  },
  {
   "cell_type": "code",
   "execution_count": 175,
   "id": "329a2bbd",
   "metadata": {},
   "outputs": [
    {
     "data": {
      "text/plain": [
       "0.89"
      ]
     },
     "execution_count": 175,
     "metadata": {},
     "output_type": "execute_result"
    }
   ],
   "source": [
    "accuracy_score(tY,pY)"
   ]
  },
  {
   "cell_type": "code",
   "execution_count": 176,
   "id": "73a1d13d",
   "metadata": {},
   "outputs": [
    {
     "data": {
      "text/plain": [
       "0.8791208791208791"
      ]
     },
     "execution_count": 176,
     "metadata": {},
     "output_type": "execute_result"
    }
   ],
   "source": [
    "f1_score(tY,pY)"
   ]
  },
  {
   "cell_type": "code",
   "execution_count": 233,
   "id": "7e49633a",
   "metadata": {
    "scrolled": true
   },
   "outputs": [
    {
     "data": {
      "text/plain": [
       "(0.89,\n",
       " 0.8949408404732762,\n",
       " 0.8333333333333334,\n",
       " 0.9302325581395349,\n",
       " 0.8791208791208791)"
      ]
     },
     "execution_count": 233,
     "metadata": {},
     "output_type": "execute_result"
    }
   ],
   "source": [
    "acc_0 = accuracy_score(tY,pY)\n",
    "roc_0 = roc_auc_score(tY,pY)\n",
    "prec_0 = precision_score(tY,pY)\n",
    "rec_0 = recall_score(tY,pY)\n",
    "f1_0 = f1_score(tY,pY)\n",
    "fpr_0, tpr_0,thresholds_0= roc_curve(tY,pY)\n",
    "acc_0,roc_0,prec_0,rec_0,f1_0"
   ]
  },
  {
   "cell_type": "markdown",
   "id": "5e91fa0a",
   "metadata": {},
   "source": [
    ">Decision Tree"
   ]
  },
  {
   "cell_type": "code",
   "execution_count": 310,
   "id": "73d4bdb4",
   "metadata": {},
   "outputs": [],
   "source": [
    "from sklearn.tree import DecisionTreeClassifier"
   ]
  },
  {
   "cell_type": "code",
   "execution_count": 289,
   "id": "ffaa2c26",
   "metadata": {},
   "outputs": [
    {
     "data": {
      "text/plain": [
       "DecisionTreeClassifier()"
      ]
     },
     "execution_count": 289,
     "metadata": {},
     "output_type": "execute_result"
    }
   ],
   "source": [
    "dtc_model=DecisionTreeClassifier()\n",
    "dtc_model.fit(TX,TY)"
   ]
  },
  {
   "cell_type": "code",
   "execution_count": 290,
   "id": "58e185a2",
   "metadata": {},
   "outputs": [],
   "source": [
    "pY1 = dtc_model.predict(tX)"
   ]
  },
  {
   "cell_type": "code",
   "execution_count": 180,
   "id": "7aaf3f19",
   "metadata": {},
   "outputs": [
    {
     "data": {
      "text/plain": [
       "array([[44, 13],\n",
       "       [ 3, 40]], dtype=int64)"
      ]
     },
     "execution_count": 180,
     "metadata": {},
     "output_type": "execute_result"
    }
   ],
   "source": [
    "confusion_matrix(tY,pY1)"
   ]
  },
  {
   "cell_type": "code",
   "execution_count": 181,
   "id": "1bfc6ab5",
   "metadata": {},
   "outputs": [
    {
     "data": {
      "text/plain": [
       "0.84"
      ]
     },
     "execution_count": 181,
     "metadata": {},
     "output_type": "execute_result"
    }
   ],
   "source": [
    "accuracy_score(tY,pY1)"
   ]
  },
  {
   "cell_type": "code",
   "execution_count": 182,
   "id": "b0321bcd",
   "metadata": {
    "scrolled": true
   },
   "outputs": [
    {
     "data": {
      "text/plain": [
       "0.8333333333333334"
      ]
     },
     "execution_count": 182,
     "metadata": {},
     "output_type": "execute_result"
    }
   ],
   "source": [
    "f1_score(tY,pY1)"
   ]
  },
  {
   "cell_type": "code",
   "execution_count": 237,
   "id": "67c4d29b",
   "metadata": {
    "scrolled": true
   },
   "outputs": [
    {
     "data": {
      "text/plain": [
       "(0.84,\n",
       " 0.8510811913504691,\n",
       " 0.7547169811320755,\n",
       " 0.9302325581395349,\n",
       " 0.8333333333333334)"
      ]
     },
     "execution_count": 237,
     "metadata": {},
     "output_type": "execute_result"
    }
   ],
   "source": [
    "acc_1 = accuracy_score(tY,pY1)\n",
    "roc_1 = roc_auc_score(tY,pY1)\n",
    "prec_1 = precision_score(tY,pY1)\n",
    "rec_1 = recall_score(tY,pY1)\n",
    "f1_1 = f1_score(tY,pY1)\n",
    "fpr_1, tpr_1,thresholds_1= roc_curve(tY,pY1)\n",
    "acc_1,roc_1,prec_1,rec_1,f1_1"
   ]
  },
  {
   "cell_type": "markdown",
   "id": "0a22b9a2",
   "metadata": {},
   "source": [
    ">Random Forest"
   ]
  },
  {
   "cell_type": "code",
   "execution_count": 183,
   "id": "55a262ff",
   "metadata": {},
   "outputs": [],
   "source": [
    "from sklearn.ensemble import RandomForestClassifier"
   ]
  },
  {
   "cell_type": "code",
   "execution_count": 294,
   "id": "c6b0d132",
   "metadata": {},
   "outputs": [
    {
     "data": {
      "text/plain": [
       "RandomForestClassifier()"
      ]
     },
     "execution_count": 294,
     "metadata": {},
     "output_type": "execute_result"
    }
   ],
   "source": [
    "rfc_model = RandomForestClassifier()\n",
    "rfc_model.fit(TX,TY)"
   ]
  },
  {
   "cell_type": "code",
   "execution_count": 295,
   "id": "a24d1ce6",
   "metadata": {},
   "outputs": [],
   "source": [
    "pY2 = rfc_model.predict(tX)"
   ]
  },
  {
   "cell_type": "code",
   "execution_count": 186,
   "id": "fd28d225",
   "metadata": {
    "scrolled": true
   },
   "outputs": [
    {
     "data": {
      "text/plain": [
       "array([[49,  8],\n",
       "       [ 0, 43]], dtype=int64)"
      ]
     },
     "execution_count": 186,
     "metadata": {},
     "output_type": "execute_result"
    }
   ],
   "source": [
    "confusion_matrix(tY,pY2)"
   ]
  },
  {
   "cell_type": "code",
   "execution_count": 187,
   "id": "604900e3",
   "metadata": {},
   "outputs": [
    {
     "data": {
      "text/plain": [
       "0.92"
      ]
     },
     "execution_count": 187,
     "metadata": {},
     "output_type": "execute_result"
    }
   ],
   "source": [
    "accuracy_score(tY,pY2)"
   ]
  },
  {
   "cell_type": "code",
   "execution_count": 188,
   "id": "e8c59498",
   "metadata": {},
   "outputs": [
    {
     "data": {
      "text/plain": [
       "0.9148936170212766"
      ]
     },
     "execution_count": 188,
     "metadata": {},
     "output_type": "execute_result"
    }
   ],
   "source": [
    "f1_score(tY,pY2)"
   ]
  },
  {
   "cell_type": "code",
   "execution_count": 238,
   "id": "1bf88231",
   "metadata": {},
   "outputs": [
    {
     "data": {
      "text/plain": [
       "(0.92, 0.9298245614035088, 0.8431372549019608, 1.0, 0.9148936170212766)"
      ]
     },
     "execution_count": 238,
     "metadata": {},
     "output_type": "execute_result"
    }
   ],
   "source": [
    "acc_2 = accuracy_score(tY,pY2)\n",
    "roc_2 = roc_auc_score(tY,pY2)\n",
    "prec_2 = precision_score(tY,pY2)\n",
    "rec_2 = recall_score(tY,pY2)\n",
    "f1_2 = f1_score(tY,pY2)\n",
    "fpr_2, tpr_2,thresholds_2= roc_curve(tY,pY2)\n",
    "acc_2,roc_2,prec_2,rec_2,f1_2"
   ]
  },
  {
   "cell_type": "markdown",
   "id": "cdee8980",
   "metadata": {
    "scrolled": true
   },
   "source": [
    ">Support Vector Machine"
   ]
  },
  {
   "cell_type": "code",
   "execution_count": 189,
   "id": "dabe93c0",
   "metadata": {},
   "outputs": [],
   "source": [
    "from sklearn.svm import SVC"
   ]
  },
  {
   "cell_type": "code",
   "execution_count": 190,
   "id": "7ebe66da",
   "metadata": {},
   "outputs": [
    {
     "data": {
      "text/plain": [
       "SVC()"
      ]
     },
     "execution_count": 190,
     "metadata": {},
     "output_type": "execute_result"
    }
   ],
   "source": [
    "svc_model = SVC()\n",
    "svc_model.fit(TX,TY)"
   ]
  },
  {
   "cell_type": "code",
   "execution_count": 191,
   "id": "16b1d431",
   "metadata": {},
   "outputs": [],
   "source": [
    "pY3 = svc_model.predict(tX)"
   ]
  },
  {
   "cell_type": "code",
   "execution_count": 192,
   "id": "fe5db8aa",
   "metadata": {},
   "outputs": [
    {
     "data": {
      "text/plain": [
       "array([[48,  9],\n",
       "       [ 5, 38]], dtype=int64)"
      ]
     },
     "execution_count": 192,
     "metadata": {},
     "output_type": "execute_result"
    }
   ],
   "source": [
    "confusion_matrix(tY,pY3)"
   ]
  },
  {
   "cell_type": "code",
   "execution_count": 193,
   "id": "f3c9a077",
   "metadata": {},
   "outputs": [
    {
     "data": {
      "text/plain": [
       "0.86"
      ]
     },
     "execution_count": 193,
     "metadata": {},
     "output_type": "execute_result"
    }
   ],
   "source": [
    "accuracy_score(tY,pY3)"
   ]
  },
  {
   "cell_type": "code",
   "execution_count": 194,
   "id": "a603db9f",
   "metadata": {
    "scrolled": true
   },
   "outputs": [
    {
     "data": {
      "text/plain": [
       "0.8444444444444444"
      ]
     },
     "execution_count": 194,
     "metadata": {},
     "output_type": "execute_result"
    }
   ],
   "source": [
    "f1_score(tY,pY3)"
   ]
  },
  {
   "cell_type": "code",
   "execution_count": 239,
   "id": "8d58dc6e",
   "metadata": {
    "scrolled": true
   },
   "outputs": [
    {
     "data": {
      "text/plain": [
       "(0.86,\n",
       " 0.8629130966952264,\n",
       " 0.8085106382978723,\n",
       " 0.8837209302325582,\n",
       " 0.8444444444444444)"
      ]
     },
     "execution_count": 239,
     "metadata": {},
     "output_type": "execute_result"
    }
   ],
   "source": [
    "acc_3 = accuracy_score(tY,pY3)\n",
    "roc_3 = roc_auc_score(tY,pY3)\n",
    "prec_3 = precision_score(tY,pY3)\n",
    "rec_3 = recall_score(tY,pY3)\n",
    "f1_3 = f1_score(tY,pY3)\n",
    "fpr_3, tpr_3,thresholds_3= roc_curve(tY,pY3)\n",
    "acc_3,roc_3,prec_3,rec_3,f1_3"
   ]
  },
  {
   "cell_type": "markdown",
   "id": "bc1a247b",
   "metadata": {},
   "source": [
    ">Naive Bayes'"
   ]
  },
  {
   "cell_type": "code",
   "execution_count": 195,
   "id": "001f3cc8",
   "metadata": {},
   "outputs": [],
   "source": [
    "from sklearn.naive_bayes import GaussianNB"
   ]
  },
  {
   "cell_type": "code",
   "execution_count": 196,
   "id": "e4b5e35c",
   "metadata": {},
   "outputs": [
    {
     "data": {
      "text/plain": [
       "GaussianNB()"
      ]
     },
     "execution_count": 196,
     "metadata": {},
     "output_type": "execute_result"
    }
   ],
   "source": [
    "nvc_model = GaussianNB()\n",
    "nvc_model.fit(TX,TY)"
   ]
  },
  {
   "cell_type": "code",
   "execution_count": 197,
   "id": "41ac2d60",
   "metadata": {},
   "outputs": [],
   "source": [
    "pY4 = nvc_model.predict(tX)"
   ]
  },
  {
   "cell_type": "code",
   "execution_count": 198,
   "id": "1f6c0960",
   "metadata": {},
   "outputs": [
    {
     "data": {
      "text/plain": [
       "array([[51,  6],\n",
       "       [ 3, 40]], dtype=int64)"
      ]
     },
     "execution_count": 198,
     "metadata": {},
     "output_type": "execute_result"
    }
   ],
   "source": [
    "confusion_matrix(tY,pY4)"
   ]
  },
  {
   "cell_type": "code",
   "execution_count": 199,
   "id": "4671285a",
   "metadata": {},
   "outputs": [
    {
     "data": {
      "text/plain": [
       "0.91"
      ]
     },
     "execution_count": 199,
     "metadata": {},
     "output_type": "execute_result"
    }
   ],
   "source": [
    "accuracy_score(tY,pY4)"
   ]
  },
  {
   "cell_type": "code",
   "execution_count": 200,
   "id": "a6d618cc",
   "metadata": {},
   "outputs": [
    {
     "data": {
      "text/plain": [
       "0.898876404494382"
      ]
     },
     "execution_count": 200,
     "metadata": {},
     "output_type": "execute_result"
    }
   ],
   "source": [
    "f1_score(tY,pY4)"
   ]
  },
  {
   "cell_type": "code",
   "execution_count": 240,
   "id": "82959372",
   "metadata": {},
   "outputs": [
    {
     "data": {
      "text/plain": [
       "(0.91,\n",
       " 0.9124847001223989,\n",
       " 0.8695652173913043,\n",
       " 0.9302325581395349,\n",
       " 0.898876404494382)"
      ]
     },
     "execution_count": 240,
     "metadata": {},
     "output_type": "execute_result"
    }
   ],
   "source": [
    "acc_4 = accuracy_score(tY,pY4)\n",
    "roc_4 = roc_auc_score(tY,pY4)\n",
    "prec_4 = precision_score(tY,pY4)\n",
    "rec_4 = recall_score(tY,pY4)\n",
    "f1_4 = f1_score(tY,pY4)\n",
    "fpr_4, tpr_4,thresholds_4= roc_curve(tY,pY4)\n",
    "acc_4,roc_4,prec_4,rec_4,f1_4"
   ]
  },
  {
   "cell_type": "markdown",
   "id": "9b40a834",
   "metadata": {},
   "source": [
    ">Receiver Operating Characteristic and Area Under Curve plot"
   ]
  },
  {
   "cell_type": "code",
   "execution_count": 241,
   "id": "b6b97642",
   "metadata": {},
   "outputs": [
    {
     "data": {
      "image/png": "[encoded data removed]",
      "text/plain": [
       "<Figure size 432x288 with 1 Axes>"
      ]
     },
     "metadata": {
      "needs_background": "light"
     },
     "output_type": "display_data"
    }
   ],
   "source": [
    "plt.plot(fpr_0, tpr_0, label='%s ROC (area = %0.2f)' % ('Logistic Regression', roc_0))\n",
    "plt.plot(fpr_1, tpr_1, label='%s ROC (area = %0.2f)' % ('Decision Tree', roc_1))\n",
    "plt.plot(fpr_2, tpr_2, label='%s ROC (area = %0.2f)' % ('Random Forest', roc_2))\n",
    "plt.plot(fpr_3, tpr_3, label='%s ROC (area = %0.2f)' % ('Support Vector', roc_3))\n",
    "plt.plot(fpr_4, tpr_4, label='%s ROC (area = %0.2f)' % ('Naive Bayes', roc_4))\n",
    "plt.xlabel('1-Specificity(False Positive Rate)',fontsize=16)\n",
    "plt.ylabel('Sensitivity(True Positive Rate)',fontsize=16)\n",
    "plt.title('Receiver Operating Characteristic',fontsize=16)\n",
    "plt.legend(loc=\"lower right\")\n",
    "plt.show()"
   ]
  },
  {
   "cell_type": "markdown",
   "id": "9a97da30",
   "metadata": {},
   "source": [
    "Naive Bayes and Random Forest gave significant outputs. Though AUC of Random Forest(0.93) > AUC of Naive Bayes(0.91), the false positivity of Naive Bayes is slightly lower than that of Random Forest. "
   ]
  },
  {
   "cell_type": "code",
   "execution_count": null,
   "id": "0c4310e6",
   "metadata": {},
   "outputs": [],
   "source": []
  }
 ],
 "metadata": {
  "kernelspec": {
   "display_name": "Python 3",
   "language": "python",
   "name": "python3"
  },
  "language_info": {
   "codemirror_mode": {
    "name": "ipython",
    "version": 3
   },
   "file_extension": ".py",
   "mimetype": "text/x-python",
   "name": "python",
   "nbconvert_exporter": "python",
   "pygments_lexer": "ipython3",
   "version": "3.8.8"
  }
 },
 "nbformat": 4,
 "nbformat_minor": 5
}
